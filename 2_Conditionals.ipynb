{
  "nbformat": 4,
  "nbformat_minor": 0,
  "metadata": {
    "colab": {
      "provenance": []
    },
    "kernelspec": {
      "name": "python3",
      "display_name": "Python 3"
    },
    "language_info": {
      "name": "python"
    }
  },
  "cells": [
    {
      "cell_type": "code",
      "execution_count": null,
      "metadata": {
        "id": "_Dmunnz-bJf_",
        "outputId": "0a2876f9-8f4d-4d85-9482-a3b002c34ae4",
        "colab": {
          "base_uri": "https://localhost:8080/"
        }
      },
      "outputs": [
        {
          "output_type": "execute_result",
          "data": {
            "text/plain": [
              "True"
            ]
          },
          "metadata": {},
          "execution_count": 1
        }
      ],
      "source": [
        "5 > 3"
      ]
    },
    {
      "cell_type": "code",
      "source": [
        "5 < 3"
      ],
      "metadata": {
        "id": "99gaoUoVb766",
        "outputId": "52ba14f9-6c0a-498a-bb01-c054df4330f5",
        "colab": {
          "base_uri": "https://localhost:8080/"
        }
      },
      "execution_count": null,
      "outputs": [
        {
          "output_type": "execute_result",
          "data": {
            "text/plain": [
              "False"
            ]
          },
          "metadata": {},
          "execution_count": 2
        }
      ]
    },
    {
      "cell_type": "code",
      "source": [
        "5 == 3"
      ],
      "metadata": {
        "id": "TolG4XkGcF2l",
        "outputId": "cfd50603-0374-4686-e820-5d5126da05c0",
        "colab": {
          "base_uri": "https://localhost:8080/"
        }
      },
      "execution_count": null,
      "outputs": [
        {
          "output_type": "execute_result",
          "data": {
            "text/plain": [
              "False"
            ]
          },
          "metadata": {},
          "execution_count": 3
        }
      ]
    },
    {
      "cell_type": "code",
      "source": [
        "5 >= 5"
      ],
      "metadata": {
        "id": "789zbuY9cwf6",
        "outputId": "98773d8d-1f76-4cfa-a274-2b62888591f6",
        "colab": {
          "base_uri": "https://localhost:8080/"
        }
      },
      "execution_count": null,
      "outputs": [
        {
          "output_type": "execute_result",
          "data": {
            "text/plain": [
              "True"
            ]
          },
          "metadata": {},
          "execution_count": 4
        }
      ]
    },
    {
      "cell_type": "code",
      "source": [
        "5 <= 3"
      ],
      "metadata": {
        "id": "2aqpu5RzdKy7",
        "outputId": "0504ce11-f49b-4a5b-e038-068892919314",
        "colab": {
          "base_uri": "https://localhost:8080/"
        }
      },
      "execution_count": null,
      "outputs": [
        {
          "output_type": "execute_result",
          "data": {
            "text/plain": [
              "False"
            ]
          },
          "metadata": {},
          "execution_count": 5
        }
      ]
    },
    {
      "cell_type": "code",
      "source": [
        "5 != 3"
      ],
      "metadata": {
        "id": "0KWpVxP_dO7C",
        "outputId": "482d1753-f9f0-40c7-c7cf-bd38d215fbd9",
        "colab": {
          "base_uri": "https://localhost:8080/"
        }
      },
      "execution_count": null,
      "outputs": [
        {
          "output_type": "execute_result",
          "data": {
            "text/plain": [
              "True"
            ]
          },
          "metadata": {},
          "execution_count": 6
        }
      ]
    },
    {
      "cell_type": "code",
      "source": [
        "fruits = [\"pineapple\", \"banana\", \"durian\", \"kiwi fruit\"]"
      ],
      "metadata": {
        "id": "j4Xq4JYqdd4i"
      },
      "execution_count": null,
      "outputs": []
    },
    {
      "cell_type": "code",
      "source": [
        "\"apple\" in fruits"
      ],
      "metadata": {
        "id": "5oJeM9ICd-zx",
        "outputId": "e1880f2a-4fe1-4a71-c0be-6f7387587acd",
        "colab": {
          "base_uri": "https://localhost:8080/"
        }
      },
      "execution_count": null,
      "outputs": [
        {
          "output_type": "execute_result",
          "data": {
            "text/plain": [
              "False"
            ]
          },
          "metadata": {},
          "execution_count": 8
        }
      ]
    },
    {
      "cell_type": "code",
      "source": [
        "\"apple\" in fruits[0]"
      ],
      "metadata": {
        "id": "t9Pk3SUKeYGa",
        "outputId": "bcad275f-158a-4005-f863-ab58a2a5232e",
        "colab": {
          "base_uri": "https://localhost:8080/"
        }
      },
      "execution_count": null,
      "outputs": [
        {
          "output_type": "execute_result",
          "data": {
            "text/plain": [
              "True"
            ]
          },
          "metadata": {},
          "execution_count": 9
        }
      ]
    },
    {
      "cell_type": "code",
      "source": [
        "\"apple\" > \"banana\""
      ],
      "metadata": {
        "id": "_OerN7pyeeIJ",
        "outputId": "fa17cd5f-b7d1-4d9a-ca98-34279d4c3461",
        "colab": {
          "base_uri": "https://localhost:8080/"
        }
      },
      "execution_count": null,
      "outputs": [
        {
          "output_type": "execute_result",
          "data": {
            "text/plain": [
              "False"
            ]
          },
          "metadata": {},
          "execution_count": 10
        }
      ]
    },
    {
      "cell_type": "code",
      "source": [
        "\"apple\" > \"Apple\""
      ],
      "metadata": {
        "id": "70-6CSaKe-9c",
        "outputId": "c100c08a-c00e-49c0-9f0d-1a2ee1363c21",
        "colab": {
          "base_uri": "https://localhost:8080/"
        }
      },
      "execution_count": null,
      "outputs": [
        {
          "output_type": "execute_result",
          "data": {
            "text/plain": [
              "True"
            ]
          },
          "metadata": {},
          "execution_count": 11
        }
      ]
    },
    {
      "cell_type": "code",
      "source": [
        "sentence = \"today is Wednesday\"\n",
        "if \"Sunday\" in sentence:\n",
        "  print(\"no work today\")"
      ],
      "metadata": {
        "id": "kE4q5QAWfWZ7"
      },
      "execution_count": null,
      "outputs": []
    },
    {
      "cell_type": "code",
      "source": [
        "sentence = \"today is Wednesday\"\n",
        "if \"Sunday\" in sentence:\n",
        "  print(\"no work today\")\n",
        "else:\n",
        "  print(\"go to work\")"
      ],
      "metadata": {
        "id": "1xAZnn71gKhe",
        "outputId": "3993d3fe-7a9d-40f3-cfa4-288250a6f7c9",
        "colab": {
          "base_uri": "https://localhost:8080/"
        }
      },
      "execution_count": null,
      "outputs": [
        {
          "output_type": "stream",
          "name": "stdout",
          "text": [
            "go to work\n"
          ]
        }
      ]
    },
    {
      "cell_type": "code",
      "source": [
        "sentence = \"today is Friday\"\n",
        "if \"Sunday\" in sentence:\n",
        "  print(\"no work today\")\n",
        "elif \"Friday\" in sentence:\n",
        "  print(\"buy beer\")\n",
        "else:\n",
        "  print(\"go to work\")"
      ],
      "metadata": {
        "id": "qbrMPex5gtAs",
        "outputId": "641b36f1-3718-4044-ae1f-156b52035138",
        "colab": {
          "base_uri": "https://localhost:8080/"
        }
      },
      "execution_count": null,
      "outputs": [
        {
          "output_type": "stream",
          "name": "stdout",
          "text": [
            "buy beer\n"
          ]
        }
      ]
    },
    {
      "cell_type": "code",
      "source": [
        "sentence = \"today is Saturday\"\n",
        "if \"Sunday\" in sentence:\n",
        "  print(\"no work today\")\n",
        "elif \"Saturday\" in sentence:\n",
        "  print(\"no work today\")\n",
        "elif \"Friday\" in sentence:\n",
        "  print(\"buy beer\")\n",
        "else:\n",
        "  print(\"go to work\")"
      ],
      "metadata": {
        "id": "E3Mi1v3bhtIY",
        "outputId": "20c4aaa1-d6eb-47b7-d608-d48c33ae8c97",
        "colab": {
          "base_uri": "https://localhost:8080/"
        }
      },
      "execution_count": null,
      "outputs": [
        {
          "output_type": "stream",
          "name": "stdout",
          "text": [
            "no work today\n"
          ]
        }
      ]
    },
    {
      "cell_type": "code",
      "source": [
        "sentence = \"today is Sunday\"\n",
        "if \"Sunday\" in sentence or \"Saturday\" in sentence:\n",
        "  print(\"no work today\")\n",
        "elif \"Friday\" in sentence:\n",
        "  print(\"buy beer\")\n",
        "else:\n",
        "  print(\"go to work\")"
      ],
      "metadata": {
        "id": "knpG8R95ibTf",
        "outputId": "fa4f0174-bbc6-4fb8-facf-8c9a1d0a2fac",
        "colab": {
          "base_uri": "https://localhost:8080/"
        }
      },
      "execution_count": null,
      "outputs": [
        {
          "output_type": "stream",
          "name": "stdout",
          "text": [
            "no work today\n"
          ]
        }
      ]
    },
    {
      "cell_type": "code",
      "source": [
        "name = input(\"enter your name: \")\n",
        "print(\"hello\",name)"
      ],
      "metadata": {
        "id": "htsOXpRUjcY5"
      },
      "execution_count": null,
      "outputs": []
    },
    {
      "cell_type": "code",
      "source": [
        "age = input(\"Enter your age: \")\n",
        "age_num = int(age)\n",
        "print(\"you will be\", age_num+1, \"years old next year\")"
      ],
      "metadata": {
        "id": "qj8iSUC9luBg"
      },
      "execution_count": null,
      "outputs": []
    },
    {
      "cell_type": "code",
      "source": [
        "age = input(\"Enter your age: \")\n",
        "age_num = float(age)\n",
        "print(\"you will be\", age_num+1, \"years old next year\")"
      ],
      "metadata": {
        "id": "3ADNbvncmg3e"
      },
      "execution_count": null,
      "outputs": []
    },
    {
      "cell_type": "code",
      "source": [
        "age = input(\"Enter your age: \")\n",
        "age_num = int(age)\n",
        "if age_num >= 18:\n",
        "  print(\"eligible for driver licence\")\n",
        "elif age_num > 80:\n",
        "  print(\"you should not drive\")\n",
        "elif age_num > 120:\n",
        "  print(\"please check your age again\")\n",
        "elif age_num <0:\n",
        "  print(\"please check your age again\")\n",
        "elif age_num <=18:\n",
        "  print(\"not allowed\")\n",
        "\n"
      ],
      "metadata": {
        "id": "Tp7_nozUnWS3"
      },
      "execution_count": null,
      "outputs": []
    },
    {
      "cell_type": "code",
      "source": [
        "\n"
      ],
      "metadata": {
        "id": "nqO4CsycgnVI",
        "colab": {
          "base_uri": "https://localhost:8080/"
        },
        "outputId": "a76cb561-c6d9-40cd-980c-44f0074d7ed9"
      },
      "execution_count": null,
      "outputs": [
        {
          "output_type": "stream",
          "name": "stdout",
          "text": [
            "Enter your weight: 2\n",
            "The weight of the object is calculated to be (in Newton): 19.6\n"
          ]
        }
      ]
    }
  ]
}