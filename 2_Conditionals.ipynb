{
  "nbformat": 4,
  "nbformat_minor": 0,
  "metadata": {
    "colab": {
      "provenance": []
    },
    "kernelspec": {
      "name": "python3",
      "display_name": "Python 3"
    },
    "language_info": {
      "name": "python"
    }
  },
  "cells": [
    {
      "cell_type": "code",
      "execution_count": 1,
      "metadata": {
        "colab": {
          "base_uri": "https://localhost:8080/"
        },
        "id": "_Dmunnz-bJf_",
        "outputId": "cc1b78ee-64a7-43bc-8d79-c4e3c4de92d8"
      },
      "outputs": [
        {
          "output_type": "execute_result",
          "data": {
            "text/plain": [
              "True"
            ]
          },
          "metadata": {},
          "execution_count": 1
        }
      ],
      "source": [
        "5 > 3"
      ]
    },
    {
      "cell_type": "code",
      "source": [
        "5 < 3"
      ],
      "metadata": {
        "colab": {
          "base_uri": "https://localhost:8080/"
        },
        "id": "99gaoUoVb766",
        "outputId": "5c488a39-e596-4821-94d5-70b317fa6916"
      },
      "execution_count": 2,
      "outputs": [
        {
          "output_type": "execute_result",
          "data": {
            "text/plain": [
              "False"
            ]
          },
          "metadata": {},
          "execution_count": 2
        }
      ]
    },
    {
      "cell_type": "code",
      "source": [
        "5 == 3"
      ],
      "metadata": {
        "colab": {
          "base_uri": "https://localhost:8080/"
        },
        "id": "TolG4XkGcF2l",
        "outputId": "370b616a-8d00-45de-84d6-80abf2620622"
      },
      "execution_count": 3,
      "outputs": [
        {
          "output_type": "execute_result",
          "data": {
            "text/plain": [
              "False"
            ]
          },
          "metadata": {},
          "execution_count": 3
        }
      ]
    },
    {
      "cell_type": "code",
      "source": [
        "5 >= 5"
      ],
      "metadata": {
        "colab": {
          "base_uri": "https://localhost:8080/"
        },
        "id": "789zbuY9cwf6",
        "outputId": "a5917b36-a3f8-4ae9-ef22-9d1ffc7b0e62"
      },
      "execution_count": 4,
      "outputs": [
        {
          "output_type": "execute_result",
          "data": {
            "text/plain": [
              "True"
            ]
          },
          "metadata": {},
          "execution_count": 4
        }
      ]
    },
    {
      "cell_type": "code",
      "source": [
        "5 <= 3"
      ],
      "metadata": {
        "colab": {
          "base_uri": "https://localhost:8080/"
        },
        "id": "2aqpu5RzdKy7",
        "outputId": "d5edd22f-6478-4e51-ed9f-dff1613b72e6"
      },
      "execution_count": 5,
      "outputs": [
        {
          "output_type": "execute_result",
          "data": {
            "text/plain": [
              "False"
            ]
          },
          "metadata": {},
          "execution_count": 5
        }
      ]
    },
    {
      "cell_type": "code",
      "source": [
        "5 != 3"
      ],
      "metadata": {
        "colab": {
          "base_uri": "https://localhost:8080/"
        },
        "id": "0KWpVxP_dO7C",
        "outputId": "2a07fede-4058-48a0-95e7-e83f5278e03e"
      },
      "execution_count": 7,
      "outputs": [
        {
          "output_type": "execute_result",
          "data": {
            "text/plain": [
              "True"
            ]
          },
          "metadata": {},
          "execution_count": 7
        }
      ]
    },
    {
      "cell_type": "code",
      "source": [
        "fruits = [\"pineapple\", \"banana\", \"durian\", \"kiwi fruit\"]"
      ],
      "metadata": {
        "id": "j4Xq4JYqdd4i"
      },
      "execution_count": 8,
      "outputs": []
    },
    {
      "cell_type": "code",
      "source": [
        "\"apple\" in fruits"
      ],
      "metadata": {
        "colab": {
          "base_uri": "https://localhost:8080/"
        },
        "id": "5oJeM9ICd-zx",
        "outputId": "8441e086-d56d-4b24-9d7a-7d14970480e4"
      },
      "execution_count": 10,
      "outputs": [
        {
          "output_type": "execute_result",
          "data": {
            "text/plain": [
              "False"
            ]
          },
          "metadata": {},
          "execution_count": 10
        }
      ]
    },
    {
      "cell_type": "code",
      "source": [
        "\"apple\" in fruits[0]"
      ],
      "metadata": {
        "colab": {
          "base_uri": "https://localhost:8080/"
        },
        "id": "t9Pk3SUKeYGa",
        "outputId": "a45b1de7-cef9-4cfd-fe04-3fc78e7a5a4a"
      },
      "execution_count": 11,
      "outputs": [
        {
          "output_type": "execute_result",
          "data": {
            "text/plain": [
              "True"
            ]
          },
          "metadata": {},
          "execution_count": 11
        }
      ]
    },
    {
      "cell_type": "code",
      "source": [
        "\"apple\" > \"banana\""
      ],
      "metadata": {
        "colab": {
          "base_uri": "https://localhost:8080/"
        },
        "id": "_OerN7pyeeIJ",
        "outputId": "f60b1d23-5ab9-4582-e2f4-ac2d3f9a7186"
      },
      "execution_count": 12,
      "outputs": [
        {
          "output_type": "execute_result",
          "data": {
            "text/plain": [
              "False"
            ]
          },
          "metadata": {},
          "execution_count": 12
        }
      ]
    },
    {
      "cell_type": "code",
      "source": [
        "\"apple\" > \"Apple\""
      ],
      "metadata": {
        "colab": {
          "base_uri": "https://localhost:8080/"
        },
        "id": "70-6CSaKe-9c",
        "outputId": "df335db9-4146-41cf-dcfd-155d521c299e"
      },
      "execution_count": 13,
      "outputs": [
        {
          "output_type": "execute_result",
          "data": {
            "text/plain": [
              "True"
            ]
          },
          "metadata": {},
          "execution_count": 13
        }
      ]
    },
    {
      "cell_type": "code",
      "source": [
        "sentence = \"today is Wednesday\"\n",
        "if \"Sunday\" in sentence:\n",
        "  print(\"no work today\")"
      ],
      "metadata": {
        "id": "kE4q5QAWfWZ7"
      },
      "execution_count": 15,
      "outputs": []
    },
    {
      "cell_type": "code",
      "source": [
        "sentence = \"today is Wednesday\"\n",
        "if \"Sunday\" in sentence:\n",
        "  print(\"no work today\")\n",
        "else:\n",
        "  print(\"go to work\")"
      ],
      "metadata": {
        "colab": {
          "base_uri": "https://localhost:8080/"
        },
        "id": "1xAZnn71gKhe",
        "outputId": "ea0257f6-6db5-41d1-82e1-672968e29afc"
      },
      "execution_count": 17,
      "outputs": [
        {
          "output_type": "stream",
          "name": "stdout",
          "text": [
            "go to work\n"
          ]
        }
      ]
    },
    {
      "cell_type": "code",
      "source": [
        "sentence = \"today is Friday\"\n",
        "if \"Sunday\" in sentence:\n",
        "  print(\"no work today\")\n",
        "elif \"Friday\" in sentence:\n",
        "  print(\"buy beer\")\n",
        "else:\n",
        "  print(\"go to work\")"
      ],
      "metadata": {
        "colab": {
          "base_uri": "https://localhost:8080/"
        },
        "id": "qbrMPex5gtAs",
        "outputId": "1cfe8ea8-757f-45c5-af60-cdbef71edbad"
      },
      "execution_count": 19,
      "outputs": [
        {
          "output_type": "stream",
          "name": "stdout",
          "text": [
            "buy beer\n"
          ]
        }
      ]
    },
    {
      "cell_type": "code",
      "source": [
        "sentence = \"today is Saturday\"\n",
        "if \"Sunday\" in sentence:\n",
        "  print(\"no work today\")\n",
        "elif \"Saturday\" in sentence:\n",
        "  print(\"no work today\")\n",
        "elif \"Friday\" in sentence:\n",
        "  print(\"buy beer\")\n",
        "else:\n",
        "  print(\"go to work\")"
      ],
      "metadata": {
        "colab": {
          "base_uri": "https://localhost:8080/"
        },
        "id": "E3Mi1v3bhtIY",
        "outputId": "301234a5-52dc-4097-f870-002747d74f0e"
      },
      "execution_count": 20,
      "outputs": [
        {
          "output_type": "stream",
          "name": "stdout",
          "text": [
            "no work today\n"
          ]
        }
      ]
    },
    {
      "cell_type": "code",
      "source": [
        "sentence = \"today is Sunday\"\n",
        "if \"Sunday\" in sentence or \"Saturday\" in sentence:\n",
        "  print(\"no work today\")\n",
        "elif \"Friday\" in sentence:\n",
        "  print(\"buy beer\")\n",
        "else:\n",
        "  print(\"go to work\")"
      ],
      "metadata": {
        "colab": {
          "base_uri": "https://localhost:8080/"
        },
        "id": "knpG8R95ibTf",
        "outputId": "56129af3-d8d3-4ecf-c042-464d93c55b07"
      },
      "execution_count": 26,
      "outputs": [
        {
          "output_type": "stream",
          "name": "stdout",
          "text": [
            "no work today\n"
          ]
        }
      ]
    },
    {
      "cell_type": "code",
      "source": [
        "name = input(\"enter your name: \")\n",
        "print(\"hello\",name)"
      ],
      "metadata": {
        "colab": {
          "base_uri": "https://localhost:8080/"
        },
        "id": "htsOXpRUjcY5",
        "outputId": "40e36ae0-4255-4893-b76f-04c465e77c3f"
      },
      "execution_count": 28,
      "outputs": [
        {
          "output_type": "stream",
          "name": "stdout",
          "text": [
            "enter your name: Kitim\n",
            "hello Kitim\n"
          ]
        }
      ]
    },
    {
      "cell_type": "code",
      "source": [
        "age = input(\"Enter your age: \")\n",
        "age_num = int(age)\n",
        "print(\"you will be\", age_num+1, \"years old next year\")"
      ],
      "metadata": {
        "colab": {
          "base_uri": "https://localhost:8080/"
        },
        "id": "qj8iSUC9luBg",
        "outputId": "3f3f9428-3081-4fb1-889a-711ba3701fb0"
      },
      "execution_count": 34,
      "outputs": [
        {
          "output_type": "stream",
          "name": "stdout",
          "text": [
            "Enter your age: 20\n",
            "you will be 21 years old next year\n"
          ]
        }
      ]
    },
    {
      "cell_type": "code",
      "source": [
        "age = input(\"Enter your age: \")\n",
        "age_num = float(age)\n",
        "print(\"you will be\", age_num+1, \"years old next year\")"
      ],
      "metadata": {
        "colab": {
          "base_uri": "https://localhost:8080/"
        },
        "id": "3ADNbvncmg3e",
        "outputId": "c7f9cde6-405e-4f9e-ce3e-57c7a2ad604c"
      },
      "execution_count": 32,
      "outputs": [
        {
          "output_type": "stream",
          "name": "stdout",
          "text": [
            "Enter your age: 20.5\n",
            "you will be 21.5 years old next year\n"
          ]
        }
      ]
    },
    {
      "cell_type": "code",
      "source": [],
      "metadata": {
        "id": "Tp7_nozUnWS3"
      },
      "execution_count": null,
      "outputs": []
    }
  ]
}