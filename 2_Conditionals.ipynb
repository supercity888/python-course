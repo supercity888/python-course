{
  "nbformat": 4,
  "nbformat_minor": 0,
  "metadata": {
    "colab": {
      "provenance": []
    },
    "kernelspec": {
      "name": "python3",
      "display_name": "Python 3"
    },
    "language_info": {
      "name": "python"
    }
  },
  "cells": [
    {
      "cell_type": "code",
      "execution_count": 3,
      "metadata": {
        "colab": {
          "base_uri": "https://localhost:8080/"
        },
        "id": "_Dmunnz-bJf_",
        "outputId": "58588852-7d23-4439-c175-fb4bd81b3ab2"
      },
      "outputs": [
        {
          "output_type": "execute_result",
          "data": {
            "text/plain": [
              "True"
            ]
          },
          "metadata": {},
          "execution_count": 3
        }
      ],
      "source": [
        "5 > 3"
      ]
    },
    {
      "cell_type": "code",
      "source": [
        "5 < 3"
      ],
      "metadata": {
        "colab": {
          "base_uri": "https://localhost:8080/"
        },
        "id": "99gaoUoVb766",
        "outputId": "f259e769-aacd-4b4b-bb2f-96605c37452b"
      },
      "execution_count": 4,
      "outputs": [
        {
          "output_type": "execute_result",
          "data": {
            "text/plain": [
              "False"
            ]
          },
          "metadata": {},
          "execution_count": 4
        }
      ]
    },
    {
      "cell_type": "code",
      "source": [
        "5 == 3"
      ],
      "metadata": {
        "colab": {
          "base_uri": "https://localhost:8080/"
        },
        "id": "TolG4XkGcF2l",
        "outputId": "5d5bad1d-693d-4662-fd2f-5af50af904f9"
      },
      "execution_count": 5,
      "outputs": [
        {
          "output_type": "execute_result",
          "data": {
            "text/plain": [
              "False"
            ]
          },
          "metadata": {},
          "execution_count": 5
        }
      ]
    },
    {
      "cell_type": "code",
      "source": [
        "5 >= 5"
      ],
      "metadata": {
        "colab": {
          "base_uri": "https://localhost:8080/"
        },
        "id": "789zbuY9cwf6",
        "outputId": "b1cea59e-43a3-447f-e722-2efcc65633e1"
      },
      "execution_count": 6,
      "outputs": [
        {
          "output_type": "execute_result",
          "data": {
            "text/plain": [
              "True"
            ]
          },
          "metadata": {},
          "execution_count": 6
        }
      ]
    },
    {
      "cell_type": "code",
      "source": [
        "5 <= 3"
      ],
      "metadata": {
        "colab": {
          "base_uri": "https://localhost:8080/"
        },
        "id": "2aqpu5RzdKy7",
        "outputId": "4baae81e-ee44-4719-ba1b-59a521a9b333"
      },
      "execution_count": 7,
      "outputs": [
        {
          "output_type": "execute_result",
          "data": {
            "text/plain": [
              "False"
            ]
          },
          "metadata": {},
          "execution_count": 7
        }
      ]
    },
    {
      "cell_type": "code",
      "source": [
        "5 != 3"
      ],
      "metadata": {
        "colab": {
          "base_uri": "https://localhost:8080/"
        },
        "id": "0KWpVxP_dO7C",
        "outputId": "07254bdb-4fa5-43c6-ce97-56ac0890c3bd"
      },
      "execution_count": 8,
      "outputs": [
        {
          "output_type": "execute_result",
          "data": {
            "text/plain": [
              "True"
            ]
          },
          "metadata": {},
          "execution_count": 8
        }
      ]
    },
    {
      "cell_type": "code",
      "source": [
        "fruits = [\"pineapple\", \"banana\", \"durian\", \"kiwi fruit\"]"
      ],
      "metadata": {
        "id": "j4Xq4JYqdd4i"
      },
      "execution_count": 9,
      "outputs": []
    },
    {
      "cell_type": "code",
      "source": [
        "\"apple\" in fruits"
      ],
      "metadata": {
        "colab": {
          "base_uri": "https://localhost:8080/"
        },
        "id": "5oJeM9ICd-zx",
        "outputId": "7918f85a-f44e-4945-ad6f-252ece71c7b8"
      },
      "execution_count": 10,
      "outputs": [
        {
          "output_type": "execute_result",
          "data": {
            "text/plain": [
              "False"
            ]
          },
          "metadata": {},
          "execution_count": 10
        }
      ]
    },
    {
      "cell_type": "code",
      "source": [
        "\"apple\" in fruits[0]"
      ],
      "metadata": {
        "colab": {
          "base_uri": "https://localhost:8080/"
        },
        "id": "t9Pk3SUKeYGa",
        "outputId": "7183a341-dda9-449e-bc4e-317fa7938230"
      },
      "execution_count": 11,
      "outputs": [
        {
          "output_type": "execute_result",
          "data": {
            "text/plain": [
              "True"
            ]
          },
          "metadata": {},
          "execution_count": 11
        }
      ]
    },
    {
      "cell_type": "code",
      "source": [
        "\"apple\" > \"banana\""
      ],
      "metadata": {
        "colab": {
          "base_uri": "https://localhost:8080/"
        },
        "id": "_OerN7pyeeIJ",
        "outputId": "1cdc1649-318d-41bc-f9b2-e50ae2cb1f81"
      },
      "execution_count": 12,
      "outputs": [
        {
          "output_type": "execute_result",
          "data": {
            "text/plain": [
              "False"
            ]
          },
          "metadata": {},
          "execution_count": 12
        }
      ]
    },
    {
      "cell_type": "code",
      "source": [
        "\"apple\" > \"Apple\""
      ],
      "metadata": {
        "colab": {
          "base_uri": "https://localhost:8080/"
        },
        "id": "70-6CSaKe-9c",
        "outputId": "f37344a3-89aa-4bba-8a7c-89e8e82f0520"
      },
      "execution_count": 13,
      "outputs": [
        {
          "output_type": "execute_result",
          "data": {
            "text/plain": [
              "True"
            ]
          },
          "metadata": {},
          "execution_count": 13
        }
      ]
    },
    {
      "cell_type": "code",
      "source": [
        "sentence = \"today is Wednesday\"\n",
        "if \"Sunday\" in sentence:\n",
        "  print(\"no work today\")"
      ],
      "metadata": {
        "id": "kE4q5QAWfWZ7"
      },
      "execution_count": 14,
      "outputs": []
    },
    {
      "cell_type": "code",
      "source": [
        "sentence = \"today is Wednesday\"\n",
        "if \"Sunday\" in sentence:\n",
        "  print(\"no work today\")\n",
        "else:\n",
        "  print(\"go to work\")"
      ],
      "metadata": {
        "colab": {
          "base_uri": "https://localhost:8080/"
        },
        "id": "1xAZnn71gKhe",
        "outputId": "3138a840-8608-409b-e085-b03ae312958d"
      },
      "execution_count": 15,
      "outputs": [
        {
          "output_type": "stream",
          "name": "stdout",
          "text": [
            "go to work\n"
          ]
        }
      ]
    },
    {
      "cell_type": "code",
      "source": [
        "sentence = \"today is Friday\"\n",
        "if \"Sunday\" in sentence:\n",
        "  print(\"no work today\")\n",
        "elif \"Friday\" in sentence:\n",
        "  print(\"buy beer\")\n",
        "else:\n",
        "  print(\"go to work\")"
      ],
      "metadata": {
        "colab": {
          "base_uri": "https://localhost:8080/"
        },
        "id": "qbrMPex5gtAs",
        "outputId": "fa99ac90-269a-4857-a645-545e5244a633"
      },
      "execution_count": 16,
      "outputs": [
        {
          "output_type": "stream",
          "name": "stdout",
          "text": [
            "buy beer\n"
          ]
        }
      ]
    },
    {
      "cell_type": "code",
      "source": [
        "sentence = \"today is Saturday\"\n",
        "if \"Sunday\" in sentence:\n",
        "  print(\"no work today\")\n",
        "elif \"Saturday\" in sentence:\n",
        "  print(\"no work today\")\n",
        "elif \"Friday\" in sentence:\n",
        "  print(\"buy beer\")\n",
        "else:\n",
        "  print(\"go to work\")"
      ],
      "metadata": {
        "colab": {
          "base_uri": "https://localhost:8080/"
        },
        "id": "E3Mi1v3bhtIY",
        "outputId": "84a3a431-6560-4fd9-d8d1-c2d2d74dcfb5"
      },
      "execution_count": 17,
      "outputs": [
        {
          "output_type": "stream",
          "name": "stdout",
          "text": [
            "no work today\n"
          ]
        }
      ]
    },
    {
      "cell_type": "code",
      "source": [
        "sentence = \"today is Sunday\"\n",
        "if \"Sunday\" in sentence or \"Saturday\" in sentence:\n",
        "  print(\"no work today\")\n",
        "elif \"Friday\" in sentence:\n",
        "  print(\"buy beer\")\n",
        "else:\n",
        "  print(\"go to work\")"
      ],
      "metadata": {
        "colab": {
          "base_uri": "https://localhost:8080/"
        },
        "id": "knpG8R95ibTf",
        "outputId": "a6536eab-9dc2-47c1-9ad5-a25d8d7713c3"
      },
      "execution_count": 18,
      "outputs": [
        {
          "output_type": "stream",
          "name": "stdout",
          "text": [
            "no work today\n"
          ]
        }
      ]
    },
    {
      "cell_type": "code",
      "source": [
        "name = input(\"enter your name: \")\n",
        "print(\"hello\",name)"
      ],
      "metadata": {
        "colab": {
          "base_uri": "https://localhost:8080/"
        },
        "id": "htsOXpRUjcY5",
        "outputId": "ead40bf0-4e16-4b35-fb4c-f45bad289611"
      },
      "execution_count": 19,
      "outputs": [
        {
          "output_type": "stream",
          "name": "stdout",
          "text": [
            "enter your name: Kitim\n",
            "hello Kitim\n"
          ]
        }
      ]
    },
    {
      "cell_type": "code",
      "source": [
        "age = input(\"Enter your age: \")\n",
        "age_num = int(age)\n",
        "print(\"you will be\", age_num+1, \"years old next year\")"
      ],
      "metadata": {
        "colab": {
          "base_uri": "https://localhost:8080/"
        },
        "id": "qj8iSUC9luBg",
        "outputId": "91089952-b709-42d6-ebf5-37b41d90d974"
      },
      "execution_count": 20,
      "outputs": [
        {
          "output_type": "stream",
          "name": "stdout",
          "text": [
            "Enter your age: 20\n",
            "you will be 21 years old next year\n"
          ]
        }
      ]
    },
    {
      "cell_type": "code",
      "source": [
        "age = input(\"Enter your age: \")\n",
        "age_num = float(age)\n",
        "print(\"you will be\", age_num+1, \"years old next year\")"
      ],
      "metadata": {
        "colab": {
          "base_uri": "https://localhost:8080/"
        },
        "id": "3ADNbvncmg3e",
        "outputId": "097ec8b6-49d0-4f7d-b3dd-c53a856e55f8"
      },
      "execution_count": 21,
      "outputs": [
        {
          "output_type": "stream",
          "name": "stdout",
          "text": [
            "Enter your age: 15\n",
            "you will be 16.0 years old next year\n"
          ]
        }
      ]
    },
    {
      "cell_type": "code",
      "source": [
        "age = input(\"Enter your age: \")\n",
        "age_num = int(age)\n",
        "if age_num >= 18:\n",
        "  print(\"eligible for driver licence\")\n",
        "elif age_num > 80:\n",
        "  print(\"you should not drive\")\n",
        "elif age_num > 120:\n",
        "  print(\"please check your age again\")\n",
        "elif age_num <0:\n",
        "  print(\"please check your age again\")\n",
        "elif age_num <=18:\n",
        "  print(\"not allowed\")\n",
        "\n"
      ],
      "metadata": {
        "id": "Tp7_nozUnWS3",
        "colab": {
          "base_uri": "https://localhost:8080/"
        },
        "outputId": "95fcf47a-bca5-4f38-dede-9d895b81eb72"
      },
      "execution_count": 22,
      "outputs": [
        {
          "output_type": "stream",
          "name": "stdout",
          "text": [
            "Enter your age: 56\n",
            "eligible for driver licence\n"
          ]
        }
      ]
    },
    {
      "cell_type": "code",
      "source": [],
      "metadata": {
        "id": "nqO4CsycgnVI"
      },
      "execution_count": 22,
      "outputs": []
    }
  ]
}