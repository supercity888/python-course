{
  "nbformat": 4,
  "nbformat_minor": 0,
  "metadata": {
    "colab": {
      "provenance": []
    },
    "kernelspec": {
      "name": "python3",
      "display_name": "Python 3"
    },
    "language_info": {
      "name": "python"
    }
  },
  "cells": [
    {
      "cell_type": "code",
      "execution_count": null,
      "metadata": {
        "id": "_Dmunnz-bJf_"
      },
      "outputs": [],
      "source": [
        "5 > 3"
      ]
    },
    {
      "cell_type": "code",
      "source": [
        "5 < 3"
      ],
      "metadata": {
        "id": "99gaoUoVb766"
      },
      "execution_count": null,
      "outputs": []
    },
    {
      "cell_type": "code",
      "source": [
        "5 == 3"
      ],
      "metadata": {
        "id": "TolG4XkGcF2l"
      },
      "execution_count": null,
      "outputs": []
    },
    {
      "cell_type": "code",
      "source": [
        "5 >= 5"
      ],
      "metadata": {
        "id": "789zbuY9cwf6"
      },
      "execution_count": null,
      "outputs": []
    },
    {
      "cell_type": "code",
      "source": [
        "5 <= 3"
      ],
      "metadata": {
        "id": "2aqpu5RzdKy7"
      },
      "execution_count": null,
      "outputs": []
    },
    {
      "cell_type": "code",
      "source": [
        "5 != 3"
      ],
      "metadata": {
        "id": "0KWpVxP_dO7C"
      },
      "execution_count": null,
      "outputs": []
    },
    {
      "cell_type": "code",
      "source": [
        "fruits = [\"pineapple\", \"banana\", \"durian\", \"kiwi fruit\"]"
      ],
      "metadata": {
        "id": "j4Xq4JYqdd4i"
      },
      "execution_count": null,
      "outputs": []
    },
    {
      "cell_type": "code",
      "source": [
        "\"apple\" in fruits"
      ],
      "metadata": {
        "id": "5oJeM9ICd-zx"
      },
      "execution_count": null,
      "outputs": []
    },
    {
      "cell_type": "code",
      "source": [
        "\"apple\" in fruits[0]"
      ],
      "metadata": {
        "id": "t9Pk3SUKeYGa"
      },
      "execution_count": null,
      "outputs": []
    },
    {
      "cell_type": "code",
      "source": [
        "\"apple\" > \"banana\""
      ],
      "metadata": {
        "id": "_OerN7pyeeIJ"
      },
      "execution_count": null,
      "outputs": []
    },
    {
      "cell_type": "code",
      "source": [
        "\"apple\" > \"Apple\""
      ],
      "metadata": {
        "id": "70-6CSaKe-9c"
      },
      "execution_count": null,
      "outputs": []
    },
    {
      "cell_type": "code",
      "source": [
        "sentence = \"today is Wednesday\"\n",
        "if \"Sunday\" in sentence:\n",
        "  print(\"no work today\")"
      ],
      "metadata": {
        "id": "kE4q5QAWfWZ7"
      },
      "execution_count": null,
      "outputs": []
    },
    {
      "cell_type": "code",
      "source": [
        "sentence = \"today is Wednesday\"\n",
        "if \"Sunday\" in sentence:\n",
        "  print(\"no work today\")\n",
        "else:\n",
        "  print(\"go to work\")"
      ],
      "metadata": {
        "id": "1xAZnn71gKhe"
      },
      "execution_count": null,
      "outputs": []
    },
    {
      "cell_type": "code",
      "source": [
        "sentence = \"today is Friday\"\n",
        "if \"Sunday\" in sentence:\n",
        "  print(\"no work today\")\n",
        "elif \"Friday\" in sentence:\n",
        "  print(\"buy beer\")\n",
        "else:\n",
        "  print(\"go to work\")"
      ],
      "metadata": {
        "id": "qbrMPex5gtAs"
      },
      "execution_count": null,
      "outputs": []
    },
    {
      "cell_type": "code",
      "source": [
        "sentence = \"today is Saturday\"\n",
        "if \"Sunday\" in sentence:\n",
        "  print(\"no work today\")\n",
        "elif \"Saturday\" in sentence:\n",
        "  print(\"no work today\")\n",
        "elif \"Friday\" in sentence:\n",
        "  print(\"buy beer\")\n",
        "else:\n",
        "  print(\"go to work\")"
      ],
      "metadata": {
        "id": "E3Mi1v3bhtIY"
      },
      "execution_count": null,
      "outputs": []
    },
    {
      "cell_type": "code",
      "source": [
        "sentence = \"today is Sunday\"\n",
        "if \"Sunday\" in sentence or \"Saturday\" in sentence:\n",
        "  print(\"no work today\")\n",
        "elif \"Friday\" in sentence:\n",
        "  print(\"buy beer\")\n",
        "else:\n",
        "  print(\"go to work\")"
      ],
      "metadata": {
        "id": "knpG8R95ibTf"
      },
      "execution_count": null,
      "outputs": []
    },
    {
      "cell_type": "code",
      "source": [
        "name = input(\"enter your name: \")\n",
        "print(\"hello\",name)"
      ],
      "metadata": {
        "id": "htsOXpRUjcY5"
      },
      "execution_count": null,
      "outputs": []
    },
    {
      "cell_type": "code",
      "source": [
        "age = input(\"Enter your age: \")\n",
        "age_num = int(age)\n",
        "print(\"you will be\", age_num+1, \"years old next year\")"
      ],
      "metadata": {
        "id": "qj8iSUC9luBg"
      },
      "execution_count": null,
      "outputs": []
    },
    {
      "cell_type": "code",
      "source": [
        "age = input(\"Enter your age: \")\n",
        "age_num = float(age)\n",
        "print(\"you will be\", age_num+1, \"years old next year\")"
      ],
      "metadata": {
        "id": "3ADNbvncmg3e"
      },
      "execution_count": null,
      "outputs": []
    },
    {
      "cell_type": "code",
      "source": [
        "age = input(\"Enter your age: \")\n",
        "age_num = int(age)\n",
        "if age_num >= 18:\n",
        "  print(\"eligible for driver licence\")\n",
        "elif age_num > 80:\n",
        "  print(\"you should not drive\")\n",
        "elif age_num > 120:\n",
        "  print(\"please check your age again\")\n",
        "elif age_num <0:\n",
        "  print(\"please check your age again\")\n",
        "elif age_num <=18:\n",
        "  print(\"not allowed\")\n",
        "\n"
      ],
      "metadata": {
        "id": "Tp7_nozUnWS3"
      },
      "execution_count": null,
      "outputs": []
    },
    {
      "cell_type": "code",
      "source": [],
      "metadata": {
        "id": "nqO4CsycgnVI"
      },
      "execution_count": null,
      "outputs": []
    }
  ]
}