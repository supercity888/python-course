{
  "nbformat": 4,
  "nbformat_minor": 0,
  "metadata": {
    "colab": {
      "provenance": []
    },
    "kernelspec": {
      "name": "python3",
      "display_name": "Python 3"
    },
    "language_info": {
      "name": "python"
    }
  },
  "cells": [
    {
      "cell_type": "code",
      "execution_count": null,
      "metadata": {
        "colab": {
          "base_uri": "https://localhost:8080/"
        },
        "id": "3F0LvfCGz7cG",
        "outputId": "ffa0b0c2-667e-46a7-cef3-3eb21375d469"
      },
      "outputs": [
        {
          "output_type": "stream",
          "name": "stdout",
          "text": [
            "Enter the mass of the object (in kg): 8\n",
            "Object is too light\n",
            "The weight of the object is calculated to be (in Newton): 78.4\n"
          ]
        }
      ],
      "source": [
        "weight = input(\"Enter the mass of the object (in kg): \")\n",
        "weight_num = float(weight)\n",
        "newton = float(weight_num*9.8)\n",
        "if newton > 500:\n",
        "  print(\"Object is too heavy\")\n",
        "  print(\"The weight of the object is calculated to be (in Newton):\", newton)\n",
        "elif newton < 100:\n",
        "  print(\"Object is too light\")\n",
        "  print(\"The weight of the object is calculated to be (in Newton):\", newton)\n",
        "else:\n",
        "  print()\n",
        "  print(\"The weight of the object is calculated to be (in Newton):\", newton)"
      ]
    }
  ]
}