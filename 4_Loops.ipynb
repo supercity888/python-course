{
  "nbformat": 4,
  "nbformat_minor": 0,
  "metadata": {
    "colab": {
      "provenance": []
    },
    "kernelspec": {
      "name": "python3",
      "display_name": "Python 3"
    },
    "language_info": {
      "name": "python"
    }
  },
  "cells": [
    {
      "cell_type": "code",
      "execution_count": 1,
      "metadata": {
        "colab": {
          "base_uri": "https://localhost:8080/"
        },
        "id": "cFY9DvawmyDR",
        "outputId": "031012fe-e988-4ade-c5d7-8db890b102a8"
      },
      "outputs": [
        {
          "output_type": "stream",
          "name": "stdout",
          "text": [
            "you are a child of 10 years old.\n"
          ]
        }
      ],
      "source": [
        "age = 10\n",
        "if age < 18:\n",
        "  print(\"you are a child of\", age, \"years old.\")\n",
        "else:\n",
        "  print(\"you are a adult of\", age, \"years old.\")"
      ]
    },
    {
      "cell_type": "code",
      "source": [
        "age = 10\n",
        "while age < 18:\n",
        "  print(\"you are a child of\", age, \"years old.\")\n",
        "  age = age + 1\n",
        "else:\n",
        "  print(\"you are a adult of\", age, \"years old.\")"
      ],
      "metadata": {
        "colab": {
          "base_uri": "https://localhost:8080/"
        },
        "id": "T46b5fEvoCj-",
        "outputId": "7ae00a9a-3556-4816-f944-aa551bde3aab"
      },
      "execution_count": 2,
      "outputs": [
        {
          "output_type": "stream",
          "name": "stdout",
          "text": [
            "you are a child of 10 years old.\n",
            "you are a child of 11 years old.\n",
            "you are a child of 12 years old.\n",
            "you are a child of 13 years old.\n",
            "you are a child of 14 years old.\n",
            "you are a child of 15 years old.\n",
            "you are a child of 16 years old.\n",
            "you are a child of 17 years old.\n",
            "you are a adult of 18 years old.\n"
          ]
        }
      ]
    },
    {
      "cell_type": "code",
      "source": [
        "fruits = [\"banana\", \"starfruit\", \"mangoes\", \"durian\"]\n",
        "for we in fruits:\n",
        "  print(\"I like to eat\", we)"
      ],
      "metadata": {
        "colab": {
          "base_uri": "https://localhost:8080/"
        },
        "id": "ATOtDvqFohwM",
        "outputId": "898f8432-ca47-4bf3-a0ff-b3bb1f068458"
      },
      "execution_count": 3,
      "outputs": [
        {
          "output_type": "stream",
          "name": "stdout",
          "text": [
            "I like to eat banana\n",
            "I like to eat starfruit\n",
            "I like to eat mangoes\n",
            "I like to eat durian\n"
          ]
        }
      ]
    },
    {
      "cell_type": "code",
      "source": [
        "range(10)"
      ],
      "metadata": {
        "colab": {
          "base_uri": "https://localhost:8080/"
        },
        "id": "GR-CcZN6pghZ",
        "outputId": "46886531-cf6e-47de-96af-b797af840c73"
      },
      "execution_count": 4,
      "outputs": [
        {
          "output_type": "execute_result",
          "data": {
            "text/plain": [
              "range(0, 10)"
            ]
          },
          "metadata": {},
          "execution_count": 4
        }
      ]
    },
    {
      "cell_type": "code",
      "source": [
        "list(range(10))"
      ],
      "metadata": {
        "colab": {
          "base_uri": "https://localhost:8080/"
        },
        "id": "Vd31CS6ArI7e",
        "outputId": "b18af09d-32ee-4106-99ff-145bca7917b2"
      },
      "execution_count": 5,
      "outputs": [
        {
          "output_type": "execute_result",
          "data": {
            "text/plain": [
              "[0, 1, 2, 3, 4, 5, 6, 7, 8, 9]"
            ]
          },
          "metadata": {},
          "execution_count": 5
        }
      ]
    },
    {
      "cell_type": "code",
      "source": [
        "list(range(5, 15))"
      ],
      "metadata": {
        "colab": {
          "base_uri": "https://localhost:8080/"
        },
        "id": "fYUF3IPhrQdw",
        "outputId": "70580670-1734-4094-bc21-64a2fab3f5cb"
      },
      "execution_count": 6,
      "outputs": [
        {
          "output_type": "execute_result",
          "data": {
            "text/plain": [
              "[5, 6, 7, 8, 9, 10, 11, 12, 13, 14]"
            ]
          },
          "metadata": {},
          "execution_count": 6
        }
      ]
    },
    {
      "cell_type": "code",
      "source": [
        "list(range(10, 5))"
      ],
      "metadata": {
        "colab": {
          "base_uri": "https://localhost:8080/"
        },
        "id": "eQW2yp1_red6",
        "outputId": "94683bad-4f25-4d7a-b5eb-00b01dbf1bf8"
      },
      "execution_count": 7,
      "outputs": [
        {
          "output_type": "execute_result",
          "data": {
            "text/plain": [
              "[]"
            ]
          },
          "metadata": {},
          "execution_count": 7
        }
      ]
    },
    {
      "cell_type": "code",
      "source": [
        "list(range(3, 20, 2))"
      ],
      "metadata": {
        "colab": {
          "base_uri": "https://localhost:8080/"
        },
        "id": "sqRemtlRrvRx",
        "outputId": "bcb07fae-e654-4cda-ac6d-a910a770e150"
      },
      "execution_count": 8,
      "outputs": [
        {
          "output_type": "execute_result",
          "data": {
            "text/plain": [
              "[3, 5, 7, 9, 11, 13, 15, 17, 19]"
            ]
          },
          "metadata": {},
          "execution_count": 8
        }
      ]
    },
    {
      "cell_type": "code",
      "source": [
        "list(range(10, 5, -1))"
      ],
      "metadata": {
        "colab": {
          "base_uri": "https://localhost:8080/"
        },
        "id": "KkJkfmJGsB_C",
        "outputId": "10532268-5683-4c1f-f2f3-e2f363a6cd6e"
      },
      "execution_count": 9,
      "outputs": [
        {
          "output_type": "execute_result",
          "data": {
            "text/plain": [
              "[10, 9, 8, 7, 6]"
            ]
          },
          "metadata": {},
          "execution_count": 9
        }
      ]
    },
    {
      "cell_type": "code",
      "source": [
        "num = list(range(10,-5, -3))\n",
        "for i in num:\n",
        "  print(i)\n"
      ],
      "metadata": {
        "colab": {
          "base_uri": "https://localhost:8080/"
        },
        "id": "jgUc59VfsbJ4",
        "outputId": "a1575e7f-a35b-4680-c384-630e64c49bd7"
      },
      "execution_count": 10,
      "outputs": [
        {
          "output_type": "stream",
          "name": "stdout",
          "text": [
            "10\n",
            "7\n",
            "4\n",
            "1\n",
            "-2\n"
          ]
        }
      ]
    },
    {
      "cell_type": "code",
      "source": [
        "num = 10\n",
        "while num > -3:\n",
        "  print(num)\n",
        "  num = num -3"
      ],
      "metadata": {
        "colab": {
          "base_uri": "https://localhost:8080/"
        },
        "id": "R7BJy_Q_s4SP",
        "outputId": "4d43a912-2555-46c5-f3cd-a0833cb7439f"
      },
      "execution_count": 11,
      "outputs": [
        {
          "output_type": "stream",
          "name": "stdout",
          "text": [
            "10\n",
            "7\n",
            "4\n",
            "1\n",
            "-2\n"
          ]
        }
      ]
    },
    {
      "cell_type": "code",
      "source": [],
      "metadata": {
        "id": "7Z8U7mmyvMjv"
      },
      "execution_count": 11,
      "outputs": []
    }
  ]
}