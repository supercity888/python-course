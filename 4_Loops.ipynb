{
  "nbformat": 4,
  "nbformat_minor": 0,
  "metadata": {
    "colab": {
      "provenance": []
    },
    "kernelspec": {
      "name": "python3",
      "display_name": "Python 3"
    },
    "language_info": {
      "name": "python"
    }
  },
  "cells": [
    {
      "cell_type": "code",
      "execution_count": null,
      "metadata": {
        "colab": {
          "base_uri": "https://localhost:8080/"
        },
        "id": "cFY9DvawmyDR",
        "outputId": "03bcf7eb-45ee-43f7-e45c-32e0f8722c53"
      },
      "outputs": [
        {
          "output_type": "stream",
          "name": "stdout",
          "text": [
            "you are a child of 10 years old.\n"
          ]
        }
      ],
      "source": [
        "age = 10\n",
        "if age < 18:\n",
        "  print(\"you are a child of\", age, \"years old.\")\n",
        "else:\n",
        "  print(\"you are a adult of\", age, \"years old.\")"
      ]
    },
    {
      "cell_type": "code",
      "source": [
        "fruits = [\"apple\", \"banana\", \"cherry\"]\n",
        "for x in \"banana\":\n",
        "  print(x)"
      ],
      "metadata": {
        "colab": {
          "base_uri": "https://localhost:8080/"
        },
        "id": "32QUrUwUMuhq",
        "outputId": "928632da-dcef-48ee-d322-1874f7617b1c"
      },
      "execution_count": null,
      "outputs": [
        {
          "output_type": "stream",
          "name": "stdout",
          "text": [
            "b\n",
            "a\n",
            "n\n",
            "a\n",
            "n\n",
            "a\n"
          ]
        }
      ]
    },
    {
      "cell_type": "code",
      "source": [
        "age = 10\n",
        "while age < 18:\n",
        "  print(\"you are a child of\", age, \"years old.\")\n",
        "  age = age + 1\n",
        "else:\n",
        "  print(\"you are a adult of\", age, \"years old.\")"
      ],
      "metadata": {
        "colab": {
          "base_uri": "https://localhost:8080/"
        },
        "id": "T46b5fEvoCj-",
        "outputId": "3af774ca-bfb4-4f96-b45c-de44f776cc06"
      },
      "execution_count": null,
      "outputs": [
        {
          "output_type": "stream",
          "name": "stdout",
          "text": [
            "you are a child of 10 years old.\n",
            "you are a child of 11 years old.\n",
            "you are a child of 12 years old.\n",
            "you are a child of 13 years old.\n",
            "you are a child of 14 years old.\n",
            "you are a child of 15 years old.\n",
            "you are a child of 16 years old.\n",
            "you are a child of 17 years old.\n",
            "you are a adult of 18 years old.\n"
          ]
        }
      ]
    },
    {
      "cell_type": "code",
      "source": [
        "fruits = [\"banana\", \"starfruit\", \"mangoes\", \"durian\"]\n",
        "for we in fruits:\n",
        "  print(\"I like to eat\", we)"
      ],
      "metadata": {
        "colab": {
          "base_uri": "https://localhost:8080/"
        },
        "id": "ATOtDvqFohwM",
        "outputId": "730febfb-b8b1-4b67-a859-3f1cbef6657d"
      },
      "execution_count": null,
      "outputs": [
        {
          "output_type": "stream",
          "name": "stdout",
          "text": [
            "I like to eat banana\n",
            "I like to eat starfruit\n",
            "I like to eat mangoes\n",
            "I like to eat durian\n"
          ]
        }
      ]
    },
    {
      "cell_type": "code",
      "source": [
        "range(10)"
      ],
      "metadata": {
        "colab": {
          "base_uri": "https://localhost:8080/"
        },
        "id": "GR-CcZN6pghZ",
        "outputId": "8bc420d5-4f8b-40a0-f411-161007bfd27f"
      },
      "execution_count": null,
      "outputs": [
        {
          "output_type": "execute_result",
          "data": {
            "text/plain": [
              "range(0, 10)"
            ]
          },
          "metadata": {},
          "execution_count": 4
        }
      ]
    },
    {
      "cell_type": "code",
      "source": [
        "list(range(10))"
      ],
      "metadata": {
        "colab": {
          "base_uri": "https://localhost:8080/"
        },
        "id": "Vd31CS6ArI7e",
        "outputId": "d1b4daf6-feba-4586-da24-ea2a665c3fef"
      },
      "execution_count": null,
      "outputs": [
        {
          "output_type": "execute_result",
          "data": {
            "text/plain": [
              "[0, 1, 2, 3, 4, 5, 6, 7, 8, 9]"
            ]
          },
          "metadata": {},
          "execution_count": 5
        }
      ]
    },
    {
      "cell_type": "code",
      "source": [
        "list(range(5, 15))"
      ],
      "metadata": {
        "colab": {
          "base_uri": "https://localhost:8080/"
        },
        "id": "fYUF3IPhrQdw",
        "outputId": "d67778a7-042f-49c1-e687-42a7d4a8d4ab"
      },
      "execution_count": null,
      "outputs": [
        {
          "output_type": "execute_result",
          "data": {
            "text/plain": [
              "[5, 6, 7, 8, 9, 10, 11, 12, 13, 14]"
            ]
          },
          "metadata": {},
          "execution_count": 6
        }
      ]
    },
    {
      "cell_type": "code",
      "source": [
        "list(range(10, 5))"
      ],
      "metadata": {
        "colab": {
          "base_uri": "https://localhost:8080/"
        },
        "id": "eQW2yp1_red6",
        "outputId": "792e6969-b0b2-42ed-a3a6-8ae8abd5003e"
      },
      "execution_count": null,
      "outputs": [
        {
          "output_type": "execute_result",
          "data": {
            "text/plain": [
              "[]"
            ]
          },
          "metadata": {},
          "execution_count": 7
        }
      ]
    },
    {
      "cell_type": "code",
      "source": [
        "list(range(3, 20, 2))"
      ],
      "metadata": {
        "colab": {
          "base_uri": "https://localhost:8080/"
        },
        "id": "sqRemtlRrvRx",
        "outputId": "a4507fcc-d867-4350-998d-b4e144c2cd0d"
      },
      "execution_count": null,
      "outputs": [
        {
          "output_type": "execute_result",
          "data": {
            "text/plain": [
              "[3, 5, 7, 9, 11, 13, 15, 17, 19]"
            ]
          },
          "metadata": {},
          "execution_count": 8
        }
      ]
    },
    {
      "cell_type": "code",
      "source": [
        "list(range(10, 5, -1))"
      ],
      "metadata": {
        "colab": {
          "base_uri": "https://localhost:8080/"
        },
        "id": "KkJkfmJGsB_C",
        "outputId": "a2d73f10-4d72-4af8-ed36-c1c88a12d7d5"
      },
      "execution_count": null,
      "outputs": [
        {
          "output_type": "execute_result",
          "data": {
            "text/plain": [
              "[10, 9, 8, 7, 6]"
            ]
          },
          "metadata": {},
          "execution_count": 9
        }
      ]
    },
    {
      "cell_type": "code",
      "source": [
        "num = list(range(10,-5, -3))\n",
        "for i in num:\n",
        "  print(i)\n"
      ],
      "metadata": {
        "colab": {
          "base_uri": "https://localhost:8080/"
        },
        "id": "jgUc59VfsbJ4",
        "outputId": "d3cd50a6-379e-4a34-d28c-6105f8e2bf5e"
      },
      "execution_count": null,
      "outputs": [
        {
          "output_type": "stream",
          "name": "stdout",
          "text": [
            "10\n",
            "7\n",
            "4\n",
            "1\n",
            "-2\n"
          ]
        }
      ]
    },
    {
      "cell_type": "code",
      "source": [
        "num = 10\n",
        "while num > -3:\n",
        "  print(num)\n",
        "  num = num -3"
      ],
      "metadata": {
        "colab": {
          "base_uri": "https://localhost:8080/"
        },
        "id": "R7BJy_Q_s4SP",
        "outputId": "cc3411e0-d323-4fef-c081-63c179260224"
      },
      "execution_count": null,
      "outputs": [
        {
          "output_type": "stream",
          "name": "stdout",
          "text": [
            "10\n",
            "7\n",
            "4\n",
            "1\n",
            "-2\n"
          ]
        }
      ]
    },
    {
      "cell_type": "code",
      "source": [
        "while True:\n",
        "  print(\"hello\")\n",
        "  break"
      ],
      "metadata": {
        "colab": {
          "base_uri": "https://localhost:8080/"
        },
        "id": "TDVSxN3Lprxg",
        "outputId": "347280f9-b404-4c2b-a544-8e41978de738"
      },
      "execution_count": null,
      "outputs": [
        {
          "output_type": "stream",
          "name": "stdout",
          "text": [
            "hello\n"
          ]
        }
      ]
    },
    {
      "cell_type": "code",
      "source": [
        "name = \"Kitim\""
      ],
      "metadata": {
        "id": "yLPRnzlfqD1j"
      },
      "execution_count": null,
      "outputs": []
    },
    {
      "cell_type": "code",
      "source": [
        "for letter in name:\n",
        "  print(letter)"
      ],
      "metadata": {
        "colab": {
          "base_uri": "https://localhost:8080/"
        },
        "id": "idh_J1fArDQM",
        "outputId": "3be06672-cf1a-40ac-e51f-a2e92802f932"
      },
      "execution_count": null,
      "outputs": [
        {
          "output_type": "stream",
          "name": "stdout",
          "text": [
            "K\n",
            "i\n",
            "t\n",
            "i\n",
            "m\n"
          ]
        }
      ]
    },
    {
      "cell_type": "code",
      "source": [
        "for letter in name:\n",
        "  print(letter)\n",
        "  if letter == \"t\":\n",
        "    break"
      ],
      "metadata": {
        "colab": {
          "base_uri": "https://localhost:8080/"
        },
        "id": "7BXa1UB1rJYs",
        "outputId": "fd3c0621-2197-4fa0-98a5-13cf1f633ab2"
      },
      "execution_count": null,
      "outputs": [
        {
          "output_type": "stream",
          "name": "stdout",
          "text": [
            "K\n",
            "i\n",
            "t\n"
          ]
        }
      ]
    },
    {
      "cell_type": "code",
      "source": [
        "for letter in name:\n",
        "\n",
        "  if letter == \"t\":\n",
        "    continue\n",
        "  print(letter)"
      ],
      "metadata": {
        "colab": {
          "base_uri": "https://localhost:8080/"
        },
        "id": "0ma69qHprdS8",
        "outputId": "e5c92161-da19-4301-d2e1-54a66ae857a0"
      },
      "execution_count": null,
      "outputs": [
        {
          "output_type": "stream",
          "name": "stdout",
          "text": [
            "K\n",
            "i\n",
            "i\n",
            "m\n"
          ]
        }
      ]
    },
    {
      "cell_type": "code",
      "source": [
        "for letter in name:\n",
        "\n",
        "  if letter == \"t\":\n",
        "    pass\n",
        "  print(letter)"
      ],
      "metadata": {
        "colab": {
          "base_uri": "https://localhost:8080/"
        },
        "id": "te4r7nQgrpxe",
        "outputId": "57e0d5ff-1811-42c5-ae4f-fcd7d8a5555d"
      },
      "execution_count": null,
      "outputs": [
        {
          "output_type": "stream",
          "name": "stdout",
          "text": [
            "K\n",
            "i\n",
            "t\n",
            "i\n",
            "m\n"
          ]
        }
      ]
    },
    {
      "cell_type": "code",
      "source": [
        "def function1():\n",
        "  print(\"function 1 done\")\n",
        "\n",
        "\n",
        "def function2():\n",
        "  pass\n",
        "\n",
        "\n",
        "def function3():\n",
        "  pass\n"
      ],
      "metadata": {
        "id": "7OTt3XwcsoUD"
      },
      "execution_count": null,
      "outputs": []
    },
    {
      "cell_type": "code",
      "source": [],
      "metadata": {
        "id": "na8r4sw5vlWI"
      },
      "execution_count": null,
      "outputs": []
    }
  ]
}