{
  "nbformat": 4,
  "nbformat_minor": 0,
  "metadata": {
    "colab": {
      "provenance": []
    },
    "kernelspec": {
      "name": "python3",
      "display_name": "Python 3"
    },
    "language_info": {
      "name": "python"
    }
  },
  "cells": [
    {
      "cell_type": "code",
      "execution_count": null,
      "metadata": {
        "colab": {
          "base_uri": "https://localhost:8080/"
        },
        "id": "cFY9DvawmyDR",
        "outputId": "03bcf7eb-45ee-43f7-e45c-32e0f8722c53"
      },
      "outputs": [
        {
          "output_type": "stream",
          "name": "stdout",
          "text": [
            "you are a child of 10 years old.\n"
          ]
        }
      ],
      "source": [
        "age = 10\n",
        "if age < 18:\n",
        "  print(\"you are a child of\", age, \"years old.\")\n",
        "else:\n",
        "  print(\"you are a adult of\", age, \"years old.\")"
      ]
    },
    {
      "cell_type": "code",
      "source": [
        "age = 10\n",
        "while age < 18:\n",
        "  print(\"you are a child of\", age, \"years old.\")\n",
        "  age = age + 1\n",
        "else:\n",
        "  print(\"you are a adult of\", age, \"years old.\")"
      ],
      "metadata": {
        "colab": {
          "base_uri": "https://localhost:8080/"
        },
        "id": "T46b5fEvoCj-",
        "outputId": "3af774ca-bfb4-4f96-b45c-de44f776cc06"
      },
      "execution_count": null,
      "outputs": [
        {
          "output_type": "stream",
          "name": "stdout",
          "text": [
            "you are a child of 10 years old.\n",
            "you are a child of 11 years old.\n",
            "you are a child of 12 years old.\n",
            "you are a child of 13 years old.\n",
            "you are a child of 14 years old.\n",
            "you are a child of 15 years old.\n",
            "you are a child of 16 years old.\n",
            "you are a child of 17 years old.\n",
            "you are a adult of 18 years old.\n"
          ]
        }
      ]
    },
    {
      "cell_type": "code",
      "source": [
        "fruits = [\"banana\", \"starfruit\", \"mangoes\", \"durian\"]\n",
        "for we in fruits:\n",
        "  print(\"I like to eat\", we)"
      ],
      "metadata": {
        "colab": {
          "base_uri": "https://localhost:8080/"
        },
        "id": "ATOtDvqFohwM",
        "outputId": "730febfb-b8b1-4b67-a859-3f1cbef6657d"
      },
      "execution_count": null,
      "outputs": [
        {
          "output_type": "stream",
          "name": "stdout",
          "text": [
            "I like to eat banana\n",
            "I like to eat starfruit\n",
            "I like to eat mangoes\n",
            "I like to eat durian\n"
          ]
        }
      ]
    },
    {
      "cell_type": "code",
      "source": [
        "range(10)"
      ],
      "metadata": {
        "colab": {
          "base_uri": "https://localhost:8080/"
        },
        "id": "GR-CcZN6pghZ",
        "outputId": "8bc420d5-4f8b-40a0-f411-161007bfd27f"
      },
      "execution_count": null,
      "outputs": [
        {
          "output_type": "execute_result",
          "data": {
            "text/plain": [
              "range(0, 10)"
            ]
          },
          "metadata": {},
          "execution_count": 4
        }
      ]
    },
    {
      "cell_type": "code",
      "source": [
        "list(range(10))"
      ],
      "metadata": {
        "colab": {
          "base_uri": "https://localhost:8080/"
        },
        "id": "Vd31CS6ArI7e",
        "outputId": "d1b4daf6-feba-4586-da24-ea2a665c3fef"
      },
      "execution_count": null,
      "outputs": [
        {
          "output_type": "execute_result",
          "data": {
            "text/plain": [
              "[0, 1, 2, 3, 4, 5, 6, 7, 8, 9]"
            ]
          },
          "metadata": {},
          "execution_count": 5
        }
      ]
    },
    {
      "cell_type": "code",
      "source": [
        "list(range(5, 15))"
      ],
      "metadata": {
        "colab": {
          "base_uri": "https://localhost:8080/"
        },
        "id": "fYUF3IPhrQdw",
        "outputId": "d67778a7-042f-49c1-e687-42a7d4a8d4ab"
      },
      "execution_count": null,
      "outputs": [
        {
          "output_type": "execute_result",
          "data": {
            "text/plain": [
              "[5, 6, 7, 8, 9, 10, 11, 12, 13, 14]"
            ]
          },
          "metadata": {},
          "execution_count": 6
        }
      ]
    },
    {
      "cell_type": "code",
      "source": [
        "list(range(10, 5))"
      ],
      "metadata": {
        "colab": {
          "base_uri": "https://localhost:8080/"
        },
        "id": "eQW2yp1_red6",
        "outputId": "792e6969-b0b2-42ed-a3a6-8ae8abd5003e"
      },
      "execution_count": null,
      "outputs": [
        {
          "output_type": "execute_result",
          "data": {
            "text/plain": [
              "[]"
            ]
          },
          "metadata": {},
          "execution_count": 7
        }
      ]
    },
    {
      "cell_type": "code",
      "source": [
        "list(range(3, 20, 2))"
      ],
      "metadata": {
        "colab": {
          "base_uri": "https://localhost:8080/"
        },
        "id": "sqRemtlRrvRx",
        "outputId": "a4507fcc-d867-4350-998d-b4e144c2cd0d"
      },
      "execution_count": null,
      "outputs": [
        {
          "output_type": "execute_result",
          "data": {
            "text/plain": [
              "[3, 5, 7, 9, 11, 13, 15, 17, 19]"
            ]
          },
          "metadata": {},
          "execution_count": 8
        }
      ]
    },
    {
      "cell_type": "code",
      "source": [
        "list(range(10, 5, -1))"
      ],
      "metadata": {
        "colab": {
          "base_uri": "https://localhost:8080/"
        },
        "id": "KkJkfmJGsB_C",
        "outputId": "a2d73f10-4d72-4af8-ed36-c1c88a12d7d5"
      },
      "execution_count": null,
      "outputs": [
        {
          "output_type": "execute_result",
          "data": {
            "text/plain": [
              "[10, 9, 8, 7, 6]"
            ]
          },
          "metadata": {},
          "execution_count": 9
        }
      ]
    },
    {
      "cell_type": "code",
      "source": [
        "num = list(range(10,-5, -3))\n",
        "for i in num:\n",
        "  print(i)\n"
      ],
      "metadata": {
        "colab": {
          "base_uri": "https://localhost:8080/"
        },
        "id": "jgUc59VfsbJ4",
        "outputId": "d3cd50a6-379e-4a34-d28c-6105f8e2bf5e"
      },
      "execution_count": null,
      "outputs": [
        {
          "output_type": "stream",
          "name": "stdout",
          "text": [
            "10\n",
            "7\n",
            "4\n",
            "1\n",
            "-2\n"
          ]
        }
      ]
    },
    {
      "cell_type": "code",
      "source": [
        "num = 10\n",
        "while num > -3:\n",
        "  print(num)\n",
        "  num = num -3"
      ],
      "metadata": {
        "colab": {
          "base_uri": "https://localhost:8080/"
        },
        "id": "R7BJy_Q_s4SP",
        "outputId": "75c0b500-9583-4717-9cf1-e23572552987"
      },
      "execution_count": null,
      "outputs": [
        {
          "output_type": "stream",
          "name": "stdout",
          "text": [
            "10\n",
            "7\n",
            "4\n",
            "1\n",
            "-2\n"
          ]
        }
      ]
    }
  ]
}