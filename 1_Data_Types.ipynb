{
  "nbformat": 4,
  "nbformat_minor": 0,
  "metadata": {
    "colab": {
      "provenance": []
    },
    "kernelspec": {
      "name": "python3",
      "display_name": "Python 3"
    },
    "language_info": {
      "name": "python"
    }
  },
  "cells": [
    {
      "cell_type": "code",
      "execution_count": null,
      "metadata": {
        "id": "A05gB8TSz8sv"
      },
      "outputs": [],
      "source": [
        "name = \"Kitim\"\n",
        "sentence = \"Today is 16 September\"\n"
      ]
    },
    {
      "cell_type": "code",
      "source": [
        "num1 = 5\n",
        "num2 = -2"
      ],
      "metadata": {
        "id": "qqr6T-jf2dkd"
      },
      "execution_count": null,
      "outputs": []
    },
    {
      "cell_type": "code",
      "source": [
        "print(name)"
      ],
      "metadata": {
        "colab": {
          "base_uri": "https://localhost:8080/"
        },
        "id": "O8Dcu_rh27GG",
        "outputId": "04be8645-40dc-433f-e8cc-e55176f040f2"
      },
      "execution_count": null,
      "outputs": [
        {
          "output_type": "stream",
          "name": "stdout",
          "text": [
            "Kitim\n"
          ]
        }
      ]
    },
    {
      "cell_type": "code",
      "source": [
        "print(num1)"
      ],
      "metadata": {
        "colab": {
          "base_uri": "https://localhost:8080/"
        },
        "id": "f4fpmSWo3p1K",
        "outputId": "cf416b5e-0639-4fc4-988a-2cdab2058ae2"
      },
      "execution_count": null,
      "outputs": [
        {
          "output_type": "stream",
          "name": "stdout",
          "text": [
            "5\n"
          ]
        }
      ]
    },
    {
      "cell_type": "code",
      "source": [
        "type(sentence)"
      ],
      "metadata": {
        "colab": {
          "base_uri": "https://localhost:8080/"
        },
        "id": "FI0Ih1rJ3xSB",
        "outputId": "748ad7a9-2626-44da-c245-35e5f24ecf78"
      },
      "execution_count": null,
      "outputs": [
        {
          "output_type": "execute_result",
          "data": {
            "text/plain": [
              "str"
            ]
          },
          "metadata": {},
          "execution_count": 5
        }
      ]
    },
    {
      "cell_type": "code",
      "source": [
        "type(num2)"
      ],
      "metadata": {
        "colab": {
          "base_uri": "https://localhost:8080/"
        },
        "id": "iJsbeWy137Ei",
        "outputId": "690c4346-499b-4833-b094-4787ee2a3af1"
      },
      "execution_count": null,
      "outputs": [
        {
          "output_type": "execute_result",
          "data": {
            "text/plain": [
              "int"
            ]
          },
          "metadata": {},
          "execution_count": 6
        }
      ]
    },
    {
      "cell_type": "code",
      "source": [
        "sentence.upper()"
      ],
      "metadata": {
        "colab": {
          "base_uri": "https://localhost:8080/",
          "height": 35
        },
        "id": "IixEEjkG4Gcw",
        "outputId": "e1408c65-0a0e-4ec3-f641-31c292e7a85b"
      },
      "execution_count": null,
      "outputs": [
        {
          "output_type": "execute_result",
          "data": {
            "text/plain": [
              "'TODAY IS 16 SEPTEMBER'"
            ],
            "application/vnd.google.colaboratory.intrinsic+json": {
              "type": "string"
            }
          },
          "metadata": {},
          "execution_count": 7
        }
      ]
    },
    {
      "cell_type": "code",
      "source": [],
      "metadata": {
        "id": "06Q6QIrfbUy3"
      },
      "execution_count": null,
      "outputs": []
    },
    {
      "cell_type": "markdown",
      "source": [],
      "metadata": {
        "id": "22eoalqXbVva"
      }
    },
    {
      "cell_type": "code",
      "source": [
        "print(sentence)"
      ],
      "metadata": {
        "colab": {
          "base_uri": "https://localhost:8080/"
        },
        "id": "sfnjO9dH44sr",
        "outputId": "884806b3-94ac-40b0-b5ba-3dc8e8bd1888"
      },
      "execution_count": null,
      "outputs": [
        {
          "output_type": "stream",
          "name": "stdout",
          "text": [
            "Today is 16 September\n"
          ]
        }
      ]
    },
    {
      "cell_type": "code",
      "source": [
        "sentence.replace(\"Today\",\"Yesterday\")"
      ],
      "metadata": {
        "colab": {
          "base_uri": "https://localhost:8080/",
          "height": 35
        },
        "id": "gxAIbppy5oer",
        "outputId": "ca8c8c87-8a39-4bce-a0ea-891d308e5f29"
      },
      "execution_count": null,
      "outputs": [
        {
          "output_type": "execute_result",
          "data": {
            "text/plain": [
              "'Yesterday is 16 September'"
            ],
            "application/vnd.google.colaboratory.intrinsic+json": {
              "type": "string"
            }
          },
          "metadata": {},
          "execution_count": 9
        }
      ]
    },
    {
      "cell_type": "code",
      "source": [
        "num1.bit_length()"
      ],
      "metadata": {
        "colab": {
          "base_uri": "https://localhost:8080/"
        },
        "id": "XCwcj5IP6bc8",
        "outputId": "b7a09a82-ea09-4e84-db65-9664f17e226f"
      },
      "execution_count": null,
      "outputs": [
        {
          "output_type": "execute_result",
          "data": {
            "text/plain": [
              "3"
            ]
          },
          "metadata": {},
          "execution_count": 10
        }
      ]
    },
    {
      "cell_type": "code",
      "source": [
        "num3 = 6.36\n",
        "num4 = -8.4"
      ],
      "metadata": {
        "id": "JeSNW32B69Mm"
      },
      "execution_count": null,
      "outputs": []
    },
    {
      "cell_type": "code",
      "source": [
        "is_cold = True"
      ],
      "metadata": {
        "id": "dXQoyhtn7jyh"
      },
      "execution_count": null,
      "outputs": []
    },
    {
      "cell_type": "code",
      "source": [
        "snacks = [\"m&m\",\"crackers\",\"wafers\",\"milo\"]"
      ],
      "metadata": {
        "id": "fKhWbhZP_RPK"
      },
      "execution_count": null,
      "outputs": []
    },
    {
      "cell_type": "code",
      "source": [
        "print(snacks)"
      ],
      "metadata": {
        "colab": {
          "base_uri": "https://localhost:8080/"
        },
        "id": "zQqQJ6p7Abfp",
        "outputId": "7624ec61-c305-4f68-ed07-9145f7ea8a49"
      },
      "execution_count": null,
      "outputs": [
        {
          "output_type": "stream",
          "name": "stdout",
          "text": [
            "['m&m', 'crackers', 'wafers', 'milo']\n"
          ]
        }
      ]
    },
    {
      "cell_type": "code",
      "source": [
        "snacks.append(\"oreo\")"
      ],
      "metadata": {
        "id": "PEJtulz1AgHC"
      },
      "execution_count": null,
      "outputs": []
    },
    {
      "cell_type": "code",
      "source": [
        "print(snacks)"
      ],
      "metadata": {
        "colab": {
          "base_uri": "https://localhost:8080/"
        },
        "id": "SkZsxMpXBF3h",
        "outputId": "6bd5473d-1b24-464c-d50b-7eb46d72de89"
      },
      "execution_count": null,
      "outputs": [
        {
          "output_type": "stream",
          "name": "stdout",
          "text": [
            "['m&m', 'crackers', 'wafers', 'milo', 'oreo']\n"
          ]
        }
      ]
    },
    {
      "cell_type": "code",
      "source": [
        "snacks.remove(\"m&m\")"
      ],
      "metadata": {
        "id": "shBn8M5kBH-L"
      },
      "execution_count": null,
      "outputs": []
    },
    {
      "cell_type": "code",
      "source": [
        "print(snacks)"
      ],
      "metadata": {
        "colab": {
          "base_uri": "https://localhost:8080/"
        },
        "id": "SrLAqN1RBgrz",
        "outputId": "2bdc001e-3b98-482b-a4b6-d42906794841"
      },
      "execution_count": null,
      "outputs": [
        {
          "output_type": "stream",
          "name": "stdout",
          "text": [
            "['crackers', 'wafers', 'milo', 'oreo']\n"
          ]
        }
      ]
    },
    {
      "cell_type": "code",
      "source": [
        "snacks.index(\"milo\")"
      ],
      "metadata": {
        "colab": {
          "base_uri": "https://localhost:8080/"
        },
        "id": "Mvb2pxPrBjAa",
        "outputId": "f978dc67-ef95-4803-a32e-f3563efdd8b1"
      },
      "execution_count": null,
      "outputs": [
        {
          "output_type": "execute_result",
          "data": {
            "text/plain": [
              "2"
            ]
          },
          "metadata": {},
          "execution_count": 19
        }
      ]
    },
    {
      "cell_type": "code",
      "source": [
        "snacks[1]"
      ],
      "metadata": {
        "colab": {
          "base_uri": "https://localhost:8080/",
          "height": 35
        },
        "id": "hiEifAzPCDzR",
        "outputId": "eb5b5b2d-0fa2-4b62-ac40-2621cca34073"
      },
      "execution_count": null,
      "outputs": [
        {
          "output_type": "execute_result",
          "data": {
            "text/plain": [
              "'wafers'"
            ],
            "application/vnd.google.colaboratory.intrinsic+json": {
              "type": "string"
            }
          },
          "metadata": {},
          "execution_count": 20
        }
      ]
    },
    {
      "cell_type": "code",
      "source": [
        "snacks.insert(2, \"m&m\")"
      ],
      "metadata": {
        "id": "QzS4eZenCMkH"
      },
      "execution_count": null,
      "outputs": []
    },
    {
      "cell_type": "code",
      "source": [
        "print(snacks)"
      ],
      "metadata": {
        "id": "_o9AYFBwCd5v",
        "outputId": "82a43412-7459-45e5-9b49-ed9828f39e27",
        "colab": {
          "base_uri": "https://localhost:8080/"
        }
      },
      "execution_count": null,
      "outputs": [
        {
          "output_type": "stream",
          "name": "stdout",
          "text": [
            "['crackers', 'wafers', 'm&m', 'milo', 'oreo']\n"
          ]
        }
      ]
    },
    {
      "cell_type": "code",
      "source": [
        "snacks2 = {'crackers', 'wafers', 'm&m', 'milo', 'oreo',\"wafers\",\"milo\"}"
      ],
      "metadata": {
        "id": "AVG5aeedCfoy"
      },
      "execution_count": null,
      "outputs": []
    },
    {
      "cell_type": "code",
      "source": [
        "print(snacks2)"
      ],
      "metadata": {
        "colab": {
          "base_uri": "https://localhost:8080/"
        },
        "id": "8PGvUAtIHNVH",
        "outputId": "db88418a-29ea-454d-be96-2e4e82af38cb"
      },
      "execution_count": null,
      "outputs": [
        {
          "output_type": "stream",
          "name": "stdout",
          "text": [
            "{'milo', 'oreo', 'm&m', 'wafers', 'crackers'}\n"
          ]
        }
      ]
    },
    {
      "cell_type": "code",
      "source": [
        "snacks2.add(\"sweets\")"
      ],
      "metadata": {
        "id": "DumUQYoHHQCa"
      },
      "execution_count": null,
      "outputs": []
    },
    {
      "cell_type": "code",
      "source": [
        "print(snacks)"
      ],
      "metadata": {
        "colab": {
          "base_uri": "https://localhost:8080/"
        },
        "id": "eE7pH6ZtINh8",
        "outputId": "78e58b91-80f7-4e03-bbea-325f51428d6c"
      },
      "execution_count": null,
      "outputs": [
        {
          "output_type": "stream",
          "name": "stdout",
          "text": [
            "['crackers', 'wafers', 'm&m', 'milo', 'oreo']\n"
          ]
        }
      ]
    },
    {
      "cell_type": "code",
      "source": [
        "print(snacks2)"
      ],
      "metadata": {
        "colab": {
          "base_uri": "https://localhost:8080/"
        },
        "id": "n-dhjVRWIUp0",
        "outputId": "aa90a3e8-0702-496f-86ce-acced9c73b8f"
      },
      "execution_count": null,
      "outputs": [
        {
          "output_type": "stream",
          "name": "stdout",
          "text": [
            "{'milo', 'oreo', 'sweets', 'm&m', 'wafers', 'crackers'}\n"
          ]
        }
      ]
    },
    {
      "cell_type": "code",
      "source": [
        "snacks2.remove(\"wafers\")"
      ],
      "metadata": {
        "id": "xkc95m1JIXru"
      },
      "execution_count": null,
      "outputs": []
    },
    {
      "cell_type": "code",
      "source": [
        "print(snacks2)"
      ],
      "metadata": {
        "colab": {
          "base_uri": "https://localhost:8080/"
        },
        "id": "tNX8Dou9I6ga",
        "outputId": "4d95c036-682a-4c57-cf1e-b84d81abc7d9"
      },
      "execution_count": null,
      "outputs": [
        {
          "output_type": "stream",
          "name": "stdout",
          "text": [
            "{'milo', 'oreo', 'sweets', 'm&m', 'crackers'}\n"
          ]
        }
      ]
    },
    {
      "cell_type": "code",
      "source": [
        "details = (\"Kitim\",\"1 Jan 2023\",\"mother's name\",\"X123-5\")"
      ],
      "metadata": {
        "id": "PXZLsFWVI9go"
      },
      "execution_count": null,
      "outputs": []
    },
    {
      "cell_type": "code",
      "source": [
        "print(details)"
      ],
      "metadata": {
        "colab": {
          "base_uri": "https://localhost:8080/"
        },
        "id": "H7sjozARK0an",
        "outputId": "812000d5-e0bc-4918-9301-8601f40fc5f6"
      },
      "execution_count": null,
      "outputs": [
        {
          "output_type": "stream",
          "name": "stdout",
          "text": [
            "('Kitim', '1 Jan 2023', \"mother's name\", 'X123-5')\n"
          ]
        }
      ]
    },
    {
      "cell_type": "code",
      "source": [
        "details.count(\"X123-5\")"
      ],
      "metadata": {
        "colab": {
          "base_uri": "https://localhost:8080/"
        },
        "id": "0dtd7_1EK3SB",
        "outputId": "aa249354-7317-4140-80f3-a489909dfd2f"
      },
      "execution_count": null,
      "outputs": [
        {
          "output_type": "execute_result",
          "data": {
            "text/plain": [
              "1"
            ]
          },
          "metadata": {},
          "execution_count": 33
        }
      ]
    },
    {
      "cell_type": "code",
      "source": [
        "numbers = {\"one\":1,\"two\":2,\"three\":3,\"four\":4}"
      ],
      "metadata": {
        "id": "ryUV4nI7LKYF"
      },
      "execution_count": null,
      "outputs": []
    },
    {
      "cell_type": "code",
      "source": [
        "print(numbers)"
      ],
      "metadata": {
        "colab": {
          "base_uri": "https://localhost:8080/"
        },
        "id": "7uLT3gMUMjew",
        "outputId": "d6d9f4fb-6511-41fc-ddaa-6cf11d694fd6"
      },
      "execution_count": null,
      "outputs": [
        {
          "output_type": "stream",
          "name": "stdout",
          "text": [
            "{'one': 1, 'two': 2, 'three': 3, 'four': 4}\n"
          ]
        }
      ]
    },
    {
      "cell_type": "code",
      "source": [
        "numbers[\"five\"]=5"
      ],
      "metadata": {
        "id": "Tf190Vg6MlN4"
      },
      "execution_count": null,
      "outputs": []
    },
    {
      "cell_type": "code",
      "source": [
        "print(numbers)"
      ],
      "metadata": {
        "colab": {
          "base_uri": "https://localhost:8080/"
        },
        "id": "f-KtONnzM-57",
        "outputId": "c0d53766-a98d-4ef6-cc71-afff5ccffd4a"
      },
      "execution_count": null,
      "outputs": [
        {
          "output_type": "stream",
          "name": "stdout",
          "text": [
            "{'one': 1, 'two': 2, 'three': 3, 'four': 4, 'five': 5}\n"
          ]
        }
      ]
    },
    {
      "cell_type": "code",
      "source": [
        "numbers[\"three\"]=300"
      ],
      "metadata": {
        "id": "e-ZtS-45NcnG"
      },
      "execution_count": null,
      "outputs": []
    },
    {
      "cell_type": "code",
      "source": [
        "print(numbers)"
      ],
      "metadata": {
        "colab": {
          "base_uri": "https://localhost:8080/"
        },
        "id": "86UhgbxxNci0",
        "outputId": "910f5f04-15cc-49be-d0ea-d827c2f90273"
      },
      "execution_count": null,
      "outputs": [
        {
          "output_type": "stream",
          "name": "stdout",
          "text": [
            "{'one': 1, 'two': 2, 'three': 300, 'four': 4, 'five': 5}\n"
          ]
        }
      ]
    },
    {
      "cell_type": "code",
      "source": [
        "del numbers[\"three\"]"
      ],
      "metadata": {
        "id": "VuX6VhY_NAsb"
      },
      "execution_count": null,
      "outputs": []
    },
    {
      "cell_type": "code",
      "source": [
        "print(numbers)"
      ],
      "metadata": {
        "colab": {
          "base_uri": "https://localhost:8080/"
        },
        "id": "WTPIQT0QNwj2",
        "outputId": "c61fd51e-4685-4d6c-e2f4-9ae293dea21c"
      },
      "execution_count": null,
      "outputs": [
        {
          "output_type": "stream",
          "name": "stdout",
          "text": [
            "{'one': 1, 'two': 2, 'four': 4, 'five': 5}\n"
          ]
        }
      ]
    },
    {
      "cell_type": "code",
      "source": [
        "numbers[\"four\"]"
      ],
      "metadata": {
        "colab": {
          "base_uri": "https://localhost:8080/"
        },
        "id": "tQZZSwMcNyi1",
        "outputId": "3a6ed3fb-d9ca-40de-a10a-2c0071a694a7"
      },
      "execution_count": null,
      "outputs": [
        {
          "output_type": "execute_result",
          "data": {
            "text/plain": [
              "4"
            ]
          },
          "metadata": {},
          "execution_count": 42
        }
      ]
    },
    {
      "cell_type": "code",
      "source": [
        "numbers.keys()"
      ],
      "metadata": {
        "colab": {
          "base_uri": "https://localhost:8080/"
        },
        "id": "gjU3UEEvOO9A",
        "outputId": "4114df96-4143-4ede-bdee-5a44ce88cc0a"
      },
      "execution_count": null,
      "outputs": [
        {
          "output_type": "execute_result",
          "data": {
            "text/plain": [
              "dict_keys(['one', 'two', 'four', 'five'])"
            ]
          },
          "metadata": {},
          "execution_count": 44
        }
      ]
    },
    {
      "cell_type": "code",
      "source": [
        "numbers.values()"
      ],
      "metadata": {
        "colab": {
          "base_uri": "https://localhost:8080/"
        },
        "id": "GzcEsAeGOurz",
        "outputId": "b6a50585-6e51-42cc-f586-013a0903fc26"
      },
      "execution_count": null,
      "outputs": [
        {
          "output_type": "execute_result",
          "data": {
            "text/plain": [
              "dict_values([1, 2, 4, 5])"
            ]
          },
          "metadata": {},
          "execution_count": 45
        }
      ]
    },
    {
      "cell_type": "code",
      "source": [
        "numbers.items()"
      ],
      "metadata": {
        "colab": {
          "base_uri": "https://localhost:8080/"
        },
        "id": "67267AisO8iX",
        "outputId": "084eb693-c5ef-40fd-b93c-989b4c836359"
      },
      "execution_count": null,
      "outputs": [
        {
          "output_type": "execute_result",
          "data": {
            "text/plain": [
              "dict_items([('one', 1), ('two', 2), ('four', 4), ('five', 5)])"
            ]
          },
          "metadata": {},
          "execution_count": 47
        }
      ]
    },
    {
      "cell_type": "code",
      "source": [
        "sen2 = \"\"\"He said,\"She's ill\".\"\"\"\n",
        "print(sen2)"
      ],
      "metadata": {
        "id": "HfksK7yOPIL-",
        "colab": {
          "base_uri": "https://localhost:8080/"
        },
        "outputId": "ddcdc193-1996-4c78-93cf-f1cc3ee81a5c"
      },
      "execution_count": null,
      "outputs": [
        {
          "output_type": "stream",
          "name": "stdout",
          "text": [
            "He said,\"She's ill\".\n"
          ]
        }
      ]
    },
    {
      "cell_type": "code",
      "source": [
        "para = \"\"\"line 1\n",
        "line 2\n",
        "line 3\n",
        "line 4\"\"\"\n",
        "print(para)"
      ],
      "metadata": {
        "colab": {
          "base_uri": "https://localhost:8080/"
        },
        "id": "f3F1aFrOfAW9",
        "outputId": "1667871c-64f2-415b-c118-6bc173d9d8eb"
      },
      "execution_count": null,
      "outputs": [
        {
          "output_type": "stream",
          "name": "stdout",
          "text": [
            "line 1\n",
            "line 2\n",
            "line 3\n",
            "line 4\n"
          ]
        }
      ]
    },
    {
      "cell_type": "code",
      "source": [
        "para2 = '''line 1\n",
        "           line 2\n",
        "           line 3\n",
        "           line 4\n",
        "           '''\n"
      ],
      "metadata": {
        "id": "VVpGtNAQf_mW"
      },
      "execution_count": null,
      "outputs": []
    },
    {
      "cell_type": "code",
      "source": [
        "print(para2)"
      ],
      "metadata": {
        "colab": {
          "base_uri": "https://localhost:8080/"
        },
        "id": "y81EDy8LgXzM",
        "outputId": "9e7fd477-0057-40c5-fbed-8ede713c08ad"
      },
      "execution_count": null,
      "outputs": [
        {
          "output_type": "stream",
          "name": "stdout",
          "text": [
            "line 1\n",
            "           line 2\n",
            "           line 3\n",
            "           line 4\n",
            "           \n"
          ]
        }
      ]
    },
    {
      "cell_type": "code",
      "source": [
        "phone = 02212345"
      ],
      "metadata": {
        "colab": {
          "base_uri": "https://localhost:8080/",
          "height": 140
        },
        "id": "E9Bcwm6Wgd9g",
        "outputId": "e3b7d77f-b0b1-4b83-aa0c-94c2617522d8"
      },
      "execution_count": null,
      "outputs": [
        {
          "output_type": "error",
          "ename": "SyntaxError",
          "evalue": "ignored",
          "traceback": [
            "\u001b[0;36m  File \u001b[0;32m\"<ipython-input-8-96f5e4d0abf5>\"\u001b[0;36m, line \u001b[0;32m1\u001b[0m\n\u001b[0;31m    phone = 02212345\u001b[0m\n\u001b[0m            ^\u001b[0m\n\u001b[0;31mSyntaxError\u001b[0m\u001b[0;31m:\u001b[0m leading zeros in decimal integer literals are not permitted; use an 0o prefix for octal integers\n"
          ]
        }
      ]
    },
    {
      "cell_type": "code",
      "source": [
        "binary_num = 0b1001101"
      ],
      "metadata": {
        "id": "yznGzsRLhRWh"
      },
      "execution_count": null,
      "outputs": []
    },
    {
      "cell_type": "code",
      "source": [
        "print(binary_num)"
      ],
      "metadata": {
        "colab": {
          "base_uri": "https://localhost:8080/"
        },
        "id": "kB4AK-PriPIi",
        "outputId": "1ed20914-0dd6-4ebb-b95e-f85f718db259"
      },
      "execution_count": null,
      "outputs": [
        {
          "output_type": "stream",
          "name": "stdout",
          "text": [
            "77\n"
          ]
        }
      ]
    },
    {
      "cell_type": "code",
      "source": [
        "oct_num = 0o50023745"
      ],
      "metadata": {
        "id": "dddPYvWKiUmy"
      },
      "execution_count": null,
      "outputs": []
    },
    {
      "cell_type": "code",
      "source": [
        "print(oct_num)"
      ],
      "metadata": {
        "colab": {
          "base_uri": "https://localhost:8080/"
        },
        "id": "O--7yMn9jE6F",
        "outputId": "8d6b48a3-1ab8-486a-c7f2-6411d83c8255"
      },
      "execution_count": null,
      "outputs": [
        {
          "output_type": "stream",
          "name": "stdout",
          "text": [
            "10495973\n"
          ]
        }
      ]
    },
    {
      "cell_type": "code",
      "source": [],
      "metadata": {
        "id": "YZ5r_Uc8jPPW"
      },
      "execution_count": null,
      "outputs": []
    },
    {
      "cell_type": "code",
      "source": [
        "hex_num = 0xa55bc976"
      ],
      "metadata": {
        "id": "h5ucz1_xjnXD"
      },
      "execution_count": null,
      "outputs": []
    },
    {
      "cell_type": "code",
      "source": [
        "print(hex_num)"
      ],
      "metadata": {
        "colab": {
          "base_uri": "https://localhost:8080/"
        },
        "id": "nzdI308wkE9C",
        "outputId": "efa78950-3969-46e6-b403-9b99c6f0f943"
      },
      "execution_count": null,
      "outputs": [
        {
          "output_type": "stream",
          "name": "stdout",
          "text": [
            "2774255990\n"
          ]
        }
      ]
    },
    {
      "cell_type": "code",
      "source": [
        "num = 0xdeadface"
      ],
      "metadata": {
        "id": "FRU1H0CbkR0R"
      },
      "execution_count": null,
      "outputs": []
    },
    {
      "cell_type": "code",
      "source": [
        "print(num)"
      ],
      "metadata": {
        "colab": {
          "base_uri": "https://localhost:8080/"
        },
        "id": "wp3-I1VikgGk",
        "outputId": "3391674a-9cc2-4947-844e-927c97dfa052"
      },
      "execution_count": null,
      "outputs": [
        {
          "output_type": "stream",
          "name": "stdout",
          "text": [
            "3735943886\n"
          ]
        }
      ]
    },
    {
      "cell_type": "code",
      "source": [
        "speed = 3e8"
      ],
      "metadata": {
        "id": "7PCt7DRHkhdr"
      },
      "execution_count": null,
      "outputs": []
    },
    {
      "cell_type": "code",
      "source": [
        "print(speed)"
      ],
      "metadata": {
        "id": "nP84BGEil2Bf",
        "outputId": "1e54bc73-999f-40a7-a695-871b41269236",
        "colab": {
          "base_uri": "https://localhost:8080/"
        }
      },
      "execution_count": null,
      "outputs": [
        {
          "output_type": "stream",
          "name": "stdout",
          "text": [
            "300000000.0\n"
          ]
        }
      ]
    },
    {
      "cell_type": "code",
      "source": [],
      "metadata": {
        "id": "I9oD-SjAl3xI"
      },
      "execution_count": null,
      "outputs": []
    }
  ]
}