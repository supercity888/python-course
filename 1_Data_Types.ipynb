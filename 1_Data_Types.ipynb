{
  "cells": [
    {
      "cell_type": "code",
      "execution_count": 1,
      "metadata": {
        "id": "A05gB8TSz8sv"
      },
      "outputs": [],
      "source": [
        "name = \"Kitim\"\n",
        "sentence = \"Today is 16 September\"\n"
      ]
    },
    {
      "cell_type": "code",
      "execution_count": 2,
      "metadata": {
        "id": "qqr6T-jf2dkd"
      },
      "outputs": [],
      "source": [
        "num1 = 5\n",
        "num2 = -2"
      ]
    },
    {
      "cell_type": "code",
      "execution_count": 3,
      "metadata": {
        "colab": {
          "base_uri": "https://localhost:8080/"
        },
        "id": "O8Dcu_rh27GG",
        "outputId": "04be8645-40dc-433f-e8cc-e55176f040f2"
      },
      "outputs": [
        {
          "name": "stdout",
          "output_type": "stream",
          "text": [
            "Kitim\n"
          ]
        }
      ],
      "source": [
        "print(name)"
      ]
    },
    {
      "cell_type": "code",
      "execution_count": 4,
      "metadata": {
        "colab": {
          "base_uri": "https://localhost:8080/"
        },
        "id": "f4fpmSWo3p1K",
        "outputId": "cf416b5e-0639-4fc4-988a-2cdab2058ae2"
      },
      "outputs": [
        {
          "name": "stdout",
          "output_type": "stream",
          "text": [
            "5\n"
          ]
        }
      ],
      "source": [
        "print(num1)"
      ]
    },
    {
      "cell_type": "code",
      "execution_count": 5,
      "metadata": {
        "colab": {
          "base_uri": "https://localhost:8080/"
        },
        "id": "FI0Ih1rJ3xSB",
        "outputId": "748ad7a9-2626-44da-c245-35e5f24ecf78"
      },
      "outputs": [
        {
          "data": {
            "text/plain": [
              "str"
            ]
          },
          "execution_count": 5,
          "metadata": {},
          "output_type": "execute_result"
        }
      ],
      "source": [
        "type(sentence)"
      ]
    },
    {
      "cell_type": "code",
      "execution_count": 6,
      "metadata": {
        "colab": {
          "base_uri": "https://localhost:8080/"
        },
        "id": "iJsbeWy137Ei",
        "outputId": "690c4346-499b-4833-b094-4787ee2a3af1"
      },
      "outputs": [
        {
          "data": {
            "text/plain": [
              "int"
            ]
          },
          "execution_count": 6,
          "metadata": {},
          "output_type": "execute_result"
        }
      ],
      "source": [
        "type(num2)"
      ]
    },
    {
      "cell_type": "code",
      "execution_count": 7,
      "metadata": {
        "colab": {
          "base_uri": "https://localhost:8080/",
          "height": 35
        },
        "id": "IixEEjkG4Gcw",
        "outputId": "e1408c65-0a0e-4ec3-f641-31c292e7a85b"
      },
      "outputs": [
        {
          "data": {
            "text/plain": [
              "'TODAY IS 16 SEPTEMBER'"
            ]
          },
          "execution_count": 7,
          "metadata": {},
          "output_type": "execute_result"
        }
      ],
      "source": [
        "sentence.upper()"
      ]
    },
    {
      "cell_type": "code",
      "execution_count": 8,
      "metadata": {
        "colab": {
          "base_uri": "https://localhost:8080/"
        },
        "id": "sfnjO9dH44sr",
        "outputId": "884806b3-94ac-40b0-b5ba-3dc8e8bd1888"
      },
      "outputs": [
        {
          "name": "stdout",
          "output_type": "stream",
          "text": [
            "Today is 16 September\n"
          ]
        }
      ],
      "source": [
        "print(sentence)"
      ]
    },
    {
      "cell_type": "code",
      "execution_count": 9,
      "metadata": {
        "colab": {
          "base_uri": "https://localhost:8080/",
          "height": 35
        },
        "id": "gxAIbppy5oer",
        "outputId": "ca8c8c87-8a39-4bce-a0ea-891d308e5f29"
      },
      "outputs": [
        {
          "data": {
            "text/plain": [
              "'Yesterday is 16 September'"
            ]
          },
          "execution_count": 9,
          "metadata": {},
          "output_type": "execute_result"
        }
      ],
      "source": [
        "sentence.replace(\"Today\",\"Yesterday\")"
      ]
    },
    {
      "cell_type": "code",
      "execution_count": 10,
      "metadata": {
        "colab": {
          "base_uri": "https://localhost:8080/"
        },
        "id": "XCwcj5IP6bc8",
        "outputId": "b7a09a82-ea09-4e84-db65-9664f17e226f"
      },
      "outputs": [
        {
          "data": {
            "text/plain": [
              "3"
            ]
          },
          "execution_count": 10,
          "metadata": {},
          "output_type": "execute_result"
        }
      ],
      "source": [
        "num1.bit_length()"
      ]
    },
    {
      "cell_type": "code",
      "execution_count": 11,
      "metadata": {
        "id": "JeSNW32B69Mm"
      },
      "outputs": [],
      "source": [
        "num3 = 6.36\n",
        "num4 = -8.4"
      ]
    },
    {
      "cell_type": "code",
      "execution_count": 12,
      "metadata": {
        "id": "dXQoyhtn7jyh"
      },
      "outputs": [],
      "source": [
        "is_cold = True"
      ]
    },
    {
      "cell_type": "code",
      "execution_count": 13,
      "metadata": {
        "id": "fKhWbhZP_RPK"
      },
      "outputs": [],
      "source": [
        "snacks = [\"m&m\",\"crackers\",\"wafers\",\"milo\"]"
      ]
    },
    {
      "cell_type": "code",
      "execution_count": 14,
      "metadata": {
        "colab": {
          "base_uri": "https://localhost:8080/"
        },
        "id": "zQqQJ6p7Abfp",
        "outputId": "7624ec61-c305-4f68-ed07-9145f7ea8a49"
      },
      "outputs": [
        {
          "name": "stdout",
          "output_type": "stream",
          "text": [
            "['m&m', 'crackers', 'wafers', 'milo']\n"
          ]
        }
      ],
      "source": [
        "print(snacks)"
      ]
    },
    {
      "cell_type": "code",
      "execution_count": 15,
      "metadata": {
        "id": "PEJtulz1AgHC"
      },
      "outputs": [],
      "source": [
        "snacks.append(\"oreo\")"
      ]
    },
    {
      "cell_type": "code",
      "execution_count": 16,
      "metadata": {
        "colab": {
          "base_uri": "https://localhost:8080/"
        },
        "id": "SkZsxMpXBF3h",
        "outputId": "6bd5473d-1b24-464c-d50b-7eb46d72de89"
      },
      "outputs": [
        {
          "name": "stdout",
          "output_type": "stream",
          "text": [
            "['m&m', 'crackers', 'wafers', 'milo', 'oreo']\n"
          ]
        }
      ],
      "source": [
        "print(snacks)"
      ]
    },
    {
      "cell_type": "code",
      "execution_count": 17,
      "metadata": {
        "id": "shBn8M5kBH-L"
      },
      "outputs": [],
      "source": [
        "snacks.remove(\"m&m\")"
      ]
    },
    {
      "cell_type": "code",
      "execution_count": 18,
      "metadata": {
        "colab": {
          "base_uri": "https://localhost:8080/"
        },
        "id": "SrLAqN1RBgrz",
        "outputId": "2bdc001e-3b98-482b-a4b6-d42906794841"
      },
      "outputs": [
        {
          "name": "stdout",
          "output_type": "stream",
          "text": [
            "['crackers', 'wafers', 'milo', 'oreo']\n"
          ]
        }
      ],
      "source": [
        "print(snacks)"
      ]
    },
    {
      "cell_type": "code",
      "execution_count": 19,
      "metadata": {
        "colab": {
          "base_uri": "https://localhost:8080/"
        },
        "id": "Mvb2pxPrBjAa",
        "outputId": "f978dc67-ef95-4803-a32e-f3563efdd8b1"
      },
      "outputs": [
        {
          "data": {
            "text/plain": [
              "2"
            ]
          },
          "execution_count": 19,
          "metadata": {},
          "output_type": "execute_result"
        }
      ],
      "source": [
        "snacks.index(\"milo\")"
      ]
    },
    {
      "cell_type": "code",
      "execution_count": 20,
      "metadata": {
        "colab": {
          "base_uri": "https://localhost:8080/",
          "height": 35
        },
        "id": "hiEifAzPCDzR",
        "outputId": "eb5b5b2d-0fa2-4b62-ac40-2621cca34073"
      },
      "outputs": [
        {
          "data": {
            "text/plain": [
              "'wafers'"
            ]
          },
          "execution_count": 20,
          "metadata": {},
          "output_type": "execute_result"
        }
      ],
      "source": [
        "snacks[1]"
      ]
    },
    {
      "cell_type": "code",
      "execution_count": 21,
      "metadata": {
        "id": "QzS4eZenCMkH"
      },
      "outputs": [],
      "source": [
        "snacks.insert(2, \"m&m\")"
      ]
    },
    {
      "cell_type": "code",
      "execution_count": 22,
      "metadata": {
        "colab": {
          "base_uri": "https://localhost:8080/"
        },
        "id": "_o9AYFBwCd5v",
        "outputId": "82a43412-7459-45e5-9b49-ed9828f39e27"
      },
      "outputs": [
        {
          "name": "stdout",
          "output_type": "stream",
          "text": [
            "['crackers', 'wafers', 'm&m', 'milo', 'oreo']\n"
          ]
        }
      ],
      "source": [
        "print(snacks)"
      ]
    },
    {
      "cell_type": "code",
      "execution_count": 23,
      "metadata": {
        "id": "AVG5aeedCfoy"
      },
      "outputs": [],
      "source": [
        "snacks2 = {'crackers', 'wafers', 'm&m', 'milo', 'oreo',\"wafers\",\"milo\"}"
      ]
    },
    {
      "cell_type": "code",
      "execution_count": 24,
      "metadata": {
        "colab": {
          "base_uri": "https://localhost:8080/"
        },
        "id": "8PGvUAtIHNVH",
        "outputId": "db88418a-29ea-454d-be96-2e4e82af38cb"
      },
      "outputs": [
        {
          "name": "stdout",
          "output_type": "stream",
          "text": [
            "{'crackers', 'wafers', 'milo', 'oreo', 'm&m'}\n"
          ]
        }
      ],
      "source": [
        "print(snacks2)"
      ]
    },
    {
      "cell_type": "code",
      "execution_count": 25,
      "metadata": {
        "id": "DumUQYoHHQCa"
      },
      "outputs": [],
      "source": [
        "snacks2.add(\"sweets\")"
      ]
    },
    {
      "cell_type": "code",
      "execution_count": 26,
      "metadata": {
        "colab": {
          "base_uri": "https://localhost:8080/"
        },
        "id": "eE7pH6ZtINh8",
        "outputId": "78e58b91-80f7-4e03-bbea-325f51428d6c"
      },
      "outputs": [
        {
          "name": "stdout",
          "output_type": "stream",
          "text": [
            "['crackers', 'wafers', 'm&m', 'milo', 'oreo']\n"
          ]
        }
      ],
      "source": [
        "print(snacks)"
      ]
    },
    {
      "cell_type": "code",
      "execution_count": 27,
      "metadata": {
        "colab": {
          "base_uri": "https://localhost:8080/"
        },
        "id": "n-dhjVRWIUp0",
        "outputId": "aa90a3e8-0702-496f-86ce-acced9c73b8f"
      },
      "outputs": [
        {
          "name": "stdout",
          "output_type": "stream",
          "text": [
            "{'crackers', 'wafers', 'sweets', 'milo', 'oreo', 'm&m'}\n"
          ]
        }
      ],
      "source": [
        "print(snacks2)"
      ]
    },
    {
      "cell_type": "code",
      "execution_count": 28,
      "metadata": {
        "id": "xkc95m1JIXru"
      },
      "outputs": [],
      "source": [
        "snacks2.remove(\"wafers\")"
      ]
    },
    {
      "cell_type": "code",
      "execution_count": 29,
      "metadata": {
        "colab": {
          "base_uri": "https://localhost:8080/"
        },
        "id": "tNX8Dou9I6ga",
        "outputId": "4d95c036-682a-4c57-cf1e-b84d81abc7d9"
      },
      "outputs": [
        {
          "name": "stdout",
          "output_type": "stream",
          "text": [
            "{'crackers', 'sweets', 'milo', 'oreo', 'm&m'}\n"
          ]
        }
      ],
      "source": [
        "print(snacks2)"
      ]
    },
    {
      "cell_type": "code",
      "execution_count": 30,
      "metadata": {
        "id": "PXZLsFWVI9go"
      },
      "outputs": [],
      "source": [
        "details = (\"Kitim\",\"1 Jan 2023\",\"mother's name\",\"X123-5\")"
      ]
    },
    {
      "cell_type": "code",
      "execution_count": 31,
      "metadata": {
        "colab": {
          "base_uri": "https://localhost:8080/"
        },
        "id": "H7sjozARK0an",
        "outputId": "812000d5-e0bc-4918-9301-8601f40fc5f6"
      },
      "outputs": [
        {
          "name": "stdout",
          "output_type": "stream",
          "text": [
            "('Kitim', '1 Jan 2023', \"mother's name\", 'X123-5')\n"
          ]
        }
      ],
      "source": [
        "print(details)"
      ]
    },
    {
      "cell_type": "code",
      "execution_count": 32,
      "metadata": {
        "colab": {
          "base_uri": "https://localhost:8080/"
        },
        "id": "0dtd7_1EK3SB",
        "outputId": "aa249354-7317-4140-80f3-a489909dfd2f"
      },
      "outputs": [
        {
          "data": {
            "text/plain": [
              "1"
            ]
          },
          "execution_count": 32,
          "metadata": {},
          "output_type": "execute_result"
        }
      ],
      "source": [
        "details.count(\"X123-5\")"
      ]
    },
    {
      "cell_type": "code",
      "execution_count": 33,
      "metadata": {
        "id": "ryUV4nI7LKYF"
      },
      "outputs": [],
      "source": [
        "numbers = {\"one\":1,\"two\":2,\"three\":3,\"four\":4}"
      ]
    },
    {
      "cell_type": "code",
      "execution_count": 34,
      "metadata": {
        "colab": {
          "base_uri": "https://localhost:8080/"
        },
        "id": "7uLT3gMUMjew",
        "outputId": "d6d9f4fb-6511-41fc-ddaa-6cf11d694fd6"
      },
      "outputs": [
        {
          "name": "stdout",
          "output_type": "stream",
          "text": [
            "{'one': 1, 'two': 2, 'three': 3, 'four': 4}\n"
          ]
        }
      ],
      "source": [
        "print(numbers)"
      ]
    },
    {
      "cell_type": "code",
      "execution_count": 35,
      "metadata": {
        "id": "Tf190Vg6MlN4"
      },
      "outputs": [],
      "source": [
        "numbers[\"five\"]=5"
      ]
    },
    {
      "cell_type": "code",
      "execution_count": 36,
      "metadata": {
        "colab": {
          "base_uri": "https://localhost:8080/"
        },
        "id": "f-KtONnzM-57",
        "outputId": "c0d53766-a98d-4ef6-cc71-afff5ccffd4a"
      },
      "outputs": [
        {
          "name": "stdout",
          "output_type": "stream",
          "text": [
            "{'one': 1, 'two': 2, 'three': 3, 'four': 4, 'five': 5}\n"
          ]
        }
      ],
      "source": [
        "print(numbers)"
      ]
    },
    {
      "cell_type": "code",
      "execution_count": 37,
      "metadata": {
        "id": "e-ZtS-45NcnG"
      },
      "outputs": [],
      "source": [
        "numbers[\"three\"]=300"
      ]
    },
    {
      "cell_type": "code",
      "execution_count": 38,
      "metadata": {
        "colab": {
          "base_uri": "https://localhost:8080/"
        },
        "id": "86UhgbxxNci0",
        "outputId": "910f5f04-15cc-49be-d0ea-d827c2f90273"
      },
      "outputs": [
        {
          "name": "stdout",
          "output_type": "stream",
          "text": [
            "{'one': 1, 'two': 2, 'three': 300, 'four': 4, 'five': 5}\n"
          ]
        }
      ],
      "source": [
        "print(numbers)"
      ]
    },
    {
      "cell_type": "code",
      "execution_count": 39,
      "metadata": {
        "id": "VuX6VhY_NAsb"
      },
      "outputs": [],
      "source": [
        "del numbers[\"three\"]"
      ]
    },
    {
      "cell_type": "code",
      "execution_count": 40,
      "metadata": {
        "colab": {
          "base_uri": "https://localhost:8080/"
        },
        "id": "WTPIQT0QNwj2",
        "outputId": "c61fd51e-4685-4d6c-e2f4-9ae293dea21c"
      },
      "outputs": [
        {
          "name": "stdout",
          "output_type": "stream",
          "text": [
            "{'one': 1, 'two': 2, 'four': 4, 'five': 5}\n"
          ]
        }
      ],
      "source": [
        "print(numbers)"
      ]
    },
    {
      "cell_type": "code",
      "execution_count": 41,
      "metadata": {
        "colab": {
          "base_uri": "https://localhost:8080/"
        },
        "id": "tQZZSwMcNyi1",
        "outputId": "3a6ed3fb-d9ca-40de-a10a-2c0071a694a7"
      },
      "outputs": [
        {
          "data": {
            "text/plain": [
              "5"
            ]
          },
          "execution_count": 41,
          "metadata": {},
          "output_type": "execute_result"
        }
      ],
      "source": [
        "numbers[\"five\"]"
      ]
    },
    {
      "cell_type": "code",
      "execution_count": null,
      "metadata": {
        "colab": {
          "base_uri": "https://localhost:8080/"
        },
        "id": "gjU3UEEvOO9A",
        "outputId": "4114df96-4143-4ede-bdee-5a44ce88cc0a"
      },
      "outputs": [
        {
          "data": {
            "text/plain": [
              "dict_keys(['one', 'two', 'four', 'five'])"
            ]
          },
          "execution_count": 44,
          "metadata": {},
          "output_type": "execute_result"
        }
      ],
      "source": [
        "numbers.keys()"
      ]
    },
    {
      "cell_type": "code",
      "execution_count": null,
      "metadata": {
        "colab": {
          "base_uri": "https://localhost:8080/"
        },
        "id": "GzcEsAeGOurz",
        "outputId": "b6a50585-6e51-42cc-f586-013a0903fc26"
      },
      "outputs": [
        {
          "data": {
            "text/plain": [
              "dict_values([1, 2, 4, 5])"
            ]
          },
          "execution_count": 45,
          "metadata": {},
          "output_type": "execute_result"
        }
      ],
      "source": [
        "numbers.values()"
      ]
    },
    {
      "cell_type": "code",
      "execution_count": null,
      "metadata": {
        "colab": {
          "base_uri": "https://localhost:8080/"
        },
        "id": "67267AisO8iX",
        "outputId": "084eb693-c5ef-40fd-b93c-989b4c836359"
      },
      "outputs": [
        {
          "data": {
            "text/plain": [
              "dict_items([('one', 1), ('two', 2), ('four', 4), ('five', 5)])"
            ]
          },
          "execution_count": 47,
          "metadata": {},
          "output_type": "execute_result"
        }
      ],
      "source": [
        "numbers.items()"
      ]
    },
    {
      "cell_type": "code",
      "execution_count": null,
      "metadata": {
        "id": "HfksK7yOPIL-"
      },
      "outputs": [],
      "source": []
    }
  ],
  "metadata": {
    "colab": {
      "provenance": []
    },
    "kernelspec": {
      "display_name": "Python 3",
      "name": "python3"
    },
    "language_info": {
      "codemirror_mode": {
        "name": "ipython",
        "version": 3
      },
      "file_extension": ".py",
      "mimetype": "text/x-python",
      "name": "python",
      "nbconvert_exporter": "python",
      "pygments_lexer": "ipython3",
      "version": "3.7.9"
    }
  },
  "nbformat": 4,
  "nbformat_minor": 0
}
