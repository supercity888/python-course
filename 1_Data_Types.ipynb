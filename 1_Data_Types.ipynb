{
  "nbformat": 4,
  "nbformat_minor": 0,
  "metadata": {
    "colab": {
      "provenance": []
    },
    "kernelspec": {
      "name": "python3",
      "display_name": "Python 3"
    },
    "language_info": {
      "name": "python"
    }
  },
  "cells": [
    {
      "cell_type": "code",
      "execution_count": null,
      "metadata": {
        "id": "A05gB8TSz8sv"
      },
      "outputs": [],
      "source": [
        "name = \"Kitim\"\n",
        "sentence = \"Today is 16 September\"\n"
      ]
    },
    {
      "cell_type": "code",
      "source": [
        "num1 = 5\n",
        "num2 = -2"
      ],
      "metadata": {
        "id": "qqr6T-jf2dkd"
      },
      "execution_count": null,
      "outputs": []
    },
    {
      "cell_type": "code",
      "source": [
        "print(name)"
      ],
      "metadata": {
        "colab": {
          "base_uri": "https://localhost:8080/"
        },
        "id": "O8Dcu_rh27GG",
        "outputId": "9b1f7a59-590a-4e80-f024-b0e735af0cef"
      },
      "execution_count": null,
      "outputs": [
        {
          "output_type": "stream",
          "name": "stdout",
          "text": [
            "Kitim\n"
          ]
        }
      ]
    },
    {
      "cell_type": "code",
      "source": [
        "print(num1)"
      ],
      "metadata": {
        "colab": {
          "base_uri": "https://localhost:8080/"
        },
        "id": "f4fpmSWo3p1K",
        "outputId": "1335fd54-f85c-485c-fa27-15b4352b9b65"
      },
      "execution_count": null,
      "outputs": [
        {
          "output_type": "stream",
          "name": "stdout",
          "text": [
            "5\n"
          ]
        }
      ]
    },
    {
      "cell_type": "code",
      "source": [
        "type(sentence)"
      ],
      "metadata": {
        "colab": {
          "base_uri": "https://localhost:8080/"
        },
        "id": "FI0Ih1rJ3xSB",
        "outputId": "61a3aa36-3f4b-4f34-9d08-97848cd3ecc0"
      },
      "execution_count": null,
      "outputs": [
        {
          "output_type": "execute_result",
          "data": {
            "text/plain": [
              "str"
            ]
          },
          "metadata": {},
          "execution_count": 5
        }
      ]
    },
    {
      "cell_type": "code",
      "source": [
        "type(num2)"
      ],
      "metadata": {
        "colab": {
          "base_uri": "https://localhost:8080/"
        },
        "id": "iJsbeWy137Ei",
        "outputId": "ce6e4c7c-e928-48f5-f774-191091b8b023"
      },
      "execution_count": null,
      "outputs": [
        {
          "output_type": "execute_result",
          "data": {
            "text/plain": [
              "int"
            ]
          },
          "metadata": {},
          "execution_count": 6
        }
      ]
    },
    {
      "cell_type": "code",
      "source": [
        "sentence.upper()"
      ],
      "metadata": {
        "colab": {
          "base_uri": "https://localhost:8080/",
          "height": 35
        },
        "id": "IixEEjkG4Gcw",
        "outputId": "dbeef87a-f530-4b53-fbee-691eefada45b"
      },
      "execution_count": null,
      "outputs": [
        {
          "output_type": "execute_result",
          "data": {
            "text/plain": [
              "'TODAY IS 16 SEPTEMBER'"
            ],
            "application/vnd.google.colaboratory.intrinsic+json": {
              "type": "string"
            }
          },
          "metadata": {},
          "execution_count": 8
        }
      ]
    },
    {
      "cell_type": "code",
      "source": [],
      "metadata": {
        "id": "06Q6QIrfbUy3"
      },
      "execution_count": null,
      "outputs": []
    },
    {
      "cell_type": "markdown",
      "source": [],
      "metadata": {
        "id": "22eoalqXbVva"
      }
    },
    {
      "cell_type": "code",
      "source": [
        "print(sentence)"
      ],
      "metadata": {
        "colab": {
          "base_uri": "https://localhost:8080/"
        },
        "id": "sfnjO9dH44sr",
        "outputId": "8c75a3d5-ac54-4cf0-a415-c7cc41f92429"
      },
      "execution_count": null,
      "outputs": [
        {
          "output_type": "stream",
          "name": "stdout",
          "text": [
            "Today is 16 September\n"
          ]
        }
      ]
    },
    {
      "cell_type": "code",
      "source": [
        "sentence.replace(\"Today\",\"Yesterday\")"
      ],
      "metadata": {
        "colab": {
          "base_uri": "https://localhost:8080/",
          "height": 35
        },
        "id": "gxAIbppy5oer",
        "outputId": "c78999ed-6376-4bf4-ad7c-08a47cf39040"
      },
      "execution_count": null,
      "outputs": [
        {
          "output_type": "execute_result",
          "data": {
            "text/plain": [
              "'Yesterday is 16 September'"
            ],
            "application/vnd.google.colaboratory.intrinsic+json": {
              "type": "string"
            }
          },
          "metadata": {},
          "execution_count": 10
        }
      ]
    },
    {
      "cell_type": "code",
      "source": [
        "num1.bit_length()"
      ],
      "metadata": {
        "colab": {
          "base_uri": "https://localhost:8080/"
        },
        "id": "XCwcj5IP6bc8",
        "outputId": "1a5c8eb2-0a64-45ac-c3a9-aaa49643794f"
      },
      "execution_count": null,
      "outputs": [
        {
          "output_type": "execute_result",
          "data": {
            "text/plain": [
              "3"
            ]
          },
          "metadata": {},
          "execution_count": 11
        }
      ]
    },
    {
      "cell_type": "code",
      "source": [
        "num3 = 6.36\n",
        "num4 = -8.4"
      ],
      "metadata": {
        "id": "JeSNW32B69Mm"
      },
      "execution_count": null,
      "outputs": []
    },
    {
      "cell_type": "code",
      "source": [
        "is_cold = True"
      ],
      "metadata": {
        "id": "dXQoyhtn7jyh"
      },
      "execution_count": null,
      "outputs": []
    },
    {
      "cell_type": "code",
      "source": [
        "snacks = [\"m&m\",\"crackers\",\"wafers\",\"milo\"]"
      ],
      "metadata": {
        "id": "fKhWbhZP_RPK"
      },
      "execution_count": null,
      "outputs": []
    },
    {
      "cell_type": "code",
      "source": [
        "print(snacks)"
      ],
      "metadata": {
        "colab": {
          "base_uri": "https://localhost:8080/"
        },
        "id": "zQqQJ6p7Abfp",
        "outputId": "791e5351-00cf-4d6d-94d2-68673109f65d"
      },
      "execution_count": null,
      "outputs": [
        {
          "output_type": "stream",
          "name": "stdout",
          "text": [
            "['m&m', 'crackers', 'wafers', 'milo']\n"
          ]
        }
      ]
    },
    {
      "cell_type": "code",
      "source": [
        "snacks.append(\"oreo\")"
      ],
      "metadata": {
        "id": "PEJtulz1AgHC"
      },
      "execution_count": null,
      "outputs": []
    },
    {
      "cell_type": "code",
      "source": [
        "print(snacks)"
      ],
      "metadata": {
        "colab": {
          "base_uri": "https://localhost:8080/"
        },
        "id": "SkZsxMpXBF3h",
        "outputId": "86ff996b-d518-4943-cac3-e4df49535d9f"
      },
      "execution_count": null,
      "outputs": [
        {
          "output_type": "stream",
          "name": "stdout",
          "text": [
            "['m&m', 'crackers', 'wafers', 'milo', 'oreo']\n"
          ]
        }
      ]
    },
    {
      "cell_type": "code",
      "source": [
        "snacks.remove(\"m&m\")"
      ],
      "metadata": {
        "id": "shBn8M5kBH-L"
      },
      "execution_count": null,
      "outputs": []
    },
    {
      "cell_type": "code",
      "source": [
        "print(snacks)"
      ],
      "metadata": {
        "colab": {
          "base_uri": "https://localhost:8080/"
        },
        "id": "SrLAqN1RBgrz",
        "outputId": "26b99817-950f-4ca0-ce81-e85b4d2554d1"
      },
      "execution_count": null,
      "outputs": [
        {
          "output_type": "stream",
          "name": "stdout",
          "text": [
            "['crackers', 'wafers', 'milo', 'oreo']\n"
          ]
        }
      ]
    },
    {
      "cell_type": "code",
      "source": [
        "snacks.index(\"milo\")"
      ],
      "metadata": {
        "colab": {
          "base_uri": "https://localhost:8080/"
        },
        "id": "Mvb2pxPrBjAa",
        "outputId": "c4834ba0-82e0-4411-9b1e-7aac8bac4a12"
      },
      "execution_count": null,
      "outputs": [
        {
          "output_type": "execute_result",
          "data": {
            "text/plain": [
              "2"
            ]
          },
          "metadata": {},
          "execution_count": 20
        }
      ]
    },
    {
      "cell_type": "code",
      "source": [
        "snacks[1]"
      ],
      "metadata": {
        "colab": {
          "base_uri": "https://localhost:8080/",
          "height": 35
        },
        "id": "hiEifAzPCDzR",
        "outputId": "58769a56-c547-4298-997e-2d54f2cdc9f0"
      },
      "execution_count": null,
      "outputs": [
        {
          "output_type": "execute_result",
          "data": {
            "text/plain": [
              "'wafers'"
            ],
            "application/vnd.google.colaboratory.intrinsic+json": {
              "type": "string"
            }
          },
          "metadata": {},
          "execution_count": 21
        }
      ]
    },
    {
      "cell_type": "code",
      "source": [
        "snacks.insert(2, \"m&m\")"
      ],
      "metadata": {
        "id": "QzS4eZenCMkH"
      },
      "execution_count": null,
      "outputs": []
    },
    {
      "cell_type": "code",
      "source": [
        "print(snacks)"
      ],
      "metadata": {
        "id": "_o9AYFBwCd5v",
        "outputId": "b2708ff1-6c4d-4007-b485-97ef7941c01d",
        "colab": {
          "base_uri": "https://localhost:8080/"
        }
      },
      "execution_count": null,
      "outputs": [
        {
          "output_type": "stream",
          "name": "stdout",
          "text": [
            "['crackers', 'wafers', 'm&m', 'milo', 'oreo']\n"
          ]
        }
      ]
    },
    {
      "cell_type": "code",
      "source": [],
      "metadata": {
        "id": "AVG5aeedCfoy"
      },
      "execution_count": null,
      "outputs": []
    }
  ]
}