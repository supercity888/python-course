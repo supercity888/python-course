{
  "nbformat": 4,
  "nbformat_minor": 0,
  "metadata": {
    "colab": {
      "provenance": []
    },
    "kernelspec": {
      "name": "python3",
      "display_name": "Python 3"
    },
    "language_info": {
      "name": "python"
    }
  },
  "cells": [
    {
      "cell_type": "code",
      "execution_count": null,
      "metadata": {
        "id": "1jydFE2u2qH6"
      },
      "outputs": [],
      "source": [
        "numbers = [\"20\", \"30\", \"3\", \"100\", \"1\", \"35\", \"24\"]"
      ]
    },
    {
      "cell_type": "code",
      "source": [
        "print(numbers)"
      ],
      "metadata": {
        "colab": {
          "base_uri": "https://localhost:8080/"
        },
        "id": "dMVej8ct3T5s",
        "outputId": "4ca8b619-3857-45ba-f823-be2e06cda7d5"
      },
      "execution_count": null,
      "outputs": [
        {
          "output_type": "stream",
          "name": "stdout",
          "text": [
            "['20', '30', '3', '100', '1', '35', '24']\n"
          ]
        }
      ]
    },
    {
      "cell_type": "code",
      "source": [
        "number2 = int(numbers)"
      ],
      "metadata": {
        "id": "DcdByzRd3cZf"
      },
      "execution_count": null,
      "outputs": []
    },
    {
      "cell_type": "code",
      "source": [
        "numbers2 = []\n",
        "for i in numbers:\n",
        "  x = int(i)\n",
        "  numbers2.append(x)"
      ],
      "metadata": {
        "id": "RnQdEsWt3pzK"
      },
      "execution_count": null,
      "outputs": []
    },
    {
      "cell_type": "code",
      "source": [
        "print(numbers2)"
      ],
      "metadata": {
        "colab": {
          "base_uri": "https://localhost:8080/"
        },
        "id": "BfUQdPKs4j0i",
        "outputId": "87602900-ee40-486b-bf6d-64d0c9e9833e"
      },
      "execution_count": null,
      "outputs": [
        {
          "output_type": "stream",
          "name": "stdout",
          "text": [
            "[20, 30, 3, 100, 1, 35, 24]\n"
          ]
        }
      ]
    },
    {
      "cell_type": "code",
      "source": [
        "numbers3 = [int(i) for i in numbers]\n",
        "print(numbers3)"
      ],
      "metadata": {
        "colab": {
          "base_uri": "https://localhost:8080/"
        },
        "id": "V6a_gBiX4pWQ",
        "outputId": "8bd812c9-7c70-4730-d4e9-06da851b1ec7"
      },
      "execution_count": null,
      "outputs": [
        {
          "output_type": "stream",
          "name": "stdout",
          "text": [
            "[20, 30, 3, 100, 1, 35, 24]\n"
          ]
        }
      ]
    },
    {
      "cell_type": "code",
      "source": [
        "numbers4 = []\n",
        "for i in numbers:\n",
        "  x = int(i)\n",
        "  if x % 2 == 0:\n",
        "    numbers4.append(x)"
      ],
      "metadata": {
        "id": "XFafWcSkL1yx"
      },
      "execution_count": null,
      "outputs": []
    },
    {
      "cell_type": "code",
      "source": [
        "print(numbers4)"
      ],
      "metadata": {
        "colab": {
          "base_uri": "https://localhost:8080/"
        },
        "id": "RD2yyzjbPBdP",
        "outputId": "e411516c-7a00-435c-eeb8-c370bc87d369"
      },
      "execution_count": null,
      "outputs": [
        {
          "output_type": "stream",
          "name": "stdout",
          "text": [
            "[20, 30, 100, 24]\n"
          ]
        }
      ]
    },
    {
      "cell_type": "code",
      "source": [
        "numbers5 = [int(i) for i in numbers if int(i) % 2 == 0]\n",
        "print(numbers5)"
      ],
      "metadata": {
        "colab": {
          "base_uri": "https://localhost:8080/"
        },
        "id": "GtqxYItQPDtW",
        "outputId": "1d07cfcd-74c3-4a8a-ce70-104e7d7fb433"
      },
      "execution_count": null,
      "outputs": [
        {
          "output_type": "stream",
          "name": "stdout",
          "text": [
            "[20, 30, 100, 24]\n"
          ]
        }
      ]
    },
    {
      "cell_type": "code",
      "source": [
        "for i in numbers:\n",
        "  x = int(i)\n",
        "  if x % 2 == 0:\n",
        "    print(\"even\", x)\n",
        "  else:\n",
        "    print(\"odd\", x)"
      ],
      "metadata": {
        "colab": {
          "base_uri": "https://localhost:8080/"
        },
        "id": "3L5OFFwDPmN3",
        "outputId": "d9356011-4434-47e0-91b5-f2e58e775488"
      },
      "execution_count": null,
      "outputs": [
        {
          "output_type": "stream",
          "name": "stdout",
          "text": [
            "even 20\n",
            "even 30\n",
            "odd 3\n",
            "even 100\n",
            "odd 1\n",
            "odd 35\n",
            "even 24\n"
          ]
        }
      ]
    },
    {
      "cell_type": "code",
      "source": [
        "[print(\"even\", i) if int(i)%2 == 0 else print(\"odd\", i) for i in numbers]"
      ],
      "metadata": {
        "colab": {
          "base_uri": "https://localhost:8080/"
        },
        "id": "hmKuPMbUSATy",
        "outputId": "73fbc17a-1ffd-4b5c-8778-6474f5177327"
      },
      "execution_count": null,
      "outputs": [
        {
          "output_type": "stream",
          "name": "stdout",
          "text": [
            "even 20\n",
            "even 30\n",
            "odd 3\n",
            "even 100\n",
            "odd 1\n",
            "odd 35\n",
            "even 24\n"
          ]
        },
        {
          "output_type": "execute_result",
          "data": {
            "text/plain": [
              "[None, None, None, None, None, None, None]"
            ]
          },
          "metadata": {},
          "execution_count": 15
        }
      ]
    },
    {
      "cell_type": "code",
      "source": [
        "x = [print(\"even\", i) if int(i)%2 == 0 else print(\"odd\", i) for i in numbers]"
      ],
      "metadata": {
        "colab": {
          "base_uri": "https://localhost:8080/"
        },
        "id": "PvbA9LGiTRws",
        "outputId": "5ce27801-b45b-47a1-cf7a-a867cc52309c"
      },
      "execution_count": null,
      "outputs": [
        {
          "output_type": "stream",
          "name": "stdout",
          "text": [
            "even 20\n",
            "even 30\n",
            "odd 3\n",
            "even 100\n",
            "odd 1\n",
            "odd 35\n",
            "even 24\n"
          ]
        }
      ]
    },
    {
      "cell_type": "code",
      "source": [
        "def double(num):\n",
        "  result = num * 2\n",
        "  return result"
      ],
      "metadata": {
        "id": "beXuDzKGUSoH"
      },
      "execution_count": null,
      "outputs": []
    },
    {
      "cell_type": "code",
      "source": [
        "double(5)"
      ],
      "metadata": {
        "colab": {
          "base_uri": "https://localhost:8080/"
        },
        "id": "5hHvW__KVDLz",
        "outputId": "a9719520-74d3-43c8-aabf-ff79c93aef98"
      },
      "execution_count": null,
      "outputs": [
        {
          "output_type": "execute_result",
          "data": {
            "text/plain": [
              "10"
            ]
          },
          "metadata": {},
          "execution_count": 18
        }
      ]
    },
    {
      "cell_type": "code",
      "source": [
        "double2 = lambda num: num * 2"
      ],
      "metadata": {
        "id": "Xoi404JvVIPx"
      },
      "execution_count": null,
      "outputs": []
    },
    {
      "cell_type": "code",
      "source": [
        "double2(10)"
      ],
      "metadata": {
        "colab": {
          "base_uri": "https://localhost:8080/"
        },
        "id": "FxuQOimOVjGP",
        "outputId": "c483befb-66e4-4372-917c-16374ed120c9"
      },
      "execution_count": null,
      "outputs": [
        {
          "output_type": "execute_result",
          "data": {
            "text/plain": [
              "20"
            ]
          },
          "metadata": {},
          "execution_count": 20
        }
      ]
    },
    {
      "cell_type": "code",
      "source": [
        "def even_or_odd(num):\n",
        "  if num%2 == 0:\n",
        "    print(\"even\", num)\n",
        "  else:\n",
        "    print(\"odd\", num)"
      ],
      "metadata": {
        "id": "fxiSgWLAVpVg"
      },
      "execution_count": null,
      "outputs": []
    },
    {
      "cell_type": "code",
      "source": [
        "even_or_odd(5)"
      ],
      "metadata": {
        "colab": {
          "base_uri": "https://localhost:8080/"
        },
        "id": "-g4PJG1EWssp",
        "outputId": "5964c35b-8249-47b9-9047-91e12a14d513"
      },
      "execution_count": null,
      "outputs": [
        {
          "output_type": "stream",
          "name": "stdout",
          "text": [
            "odd 5\n"
          ]
        }
      ]
    },
    {
      "cell_type": "code",
      "source": [
        "even_or_odd2 = lambda num: print(\"EVEN\", num) if num%2 == 0 else print(\"ODD\", num)"
      ],
      "metadata": {
        "id": "1wKPt3idWwO5"
      },
      "execution_count": null,
      "outputs": []
    },
    {
      "cell_type": "code",
      "source": [
        "even_or_odd2(55)"
      ],
      "metadata": {
        "colab": {
          "base_uri": "https://localhost:8080/"
        },
        "id": "VHzLb0gDXQ0u",
        "outputId": "809deebf-7415-4633-cb72-ed45117eda7e"
      },
      "execution_count": null,
      "outputs": [
        {
          "output_type": "stream",
          "name": "stdout",
          "text": [
            "ODD 55\n"
          ]
        }
      ]
    },
    {
      "cell_type": "code",
      "source": [
        "even_or_odd2()"
      ],
      "metadata": {
        "id": "_QrzdkBXXV97"
      },
      "execution_count": null,
      "outputs": []
    }
  ]
}