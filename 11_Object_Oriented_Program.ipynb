{
  "nbformat": 4,
  "nbformat_minor": 0,
  "metadata": {
    "colab": {
      "provenance": []
    },
    "kernelspec": {
      "name": "python3",
      "display_name": "Python 3"
    },
    "language_info": {
      "name": "python"
    }
  },
  "cells": [
    {
      "cell_type": "code",
      "execution_count": 19,
      "metadata": {
        "id": "JYv8oI2AIWyT"
      },
      "outputs": [],
      "source": [
        "class Car:\n",
        "  def __init__(self, manufacturer, model, passengers, owner):\n",
        "    self.manufacturer = manufacturer\n",
        "    self.model = model\n",
        "    self.passengers = passengers\n",
        "    self.owner = owner\n",
        "    self.ownership_history = [owner]\n",
        "\n",
        "  def details(self):\n",
        "    print(\"Manufacturer:\", self.manufacturer)\n",
        "    print(\"Model:\", self.model)\n",
        "    print(\"Passengers:\", self.passengers)\n",
        "    print(\"Owner:\", self.owner)\n",
        "\n",
        "  def sell(self, buyer):\n",
        "    self.owner = buyer\n",
        "    print(self.manufacturer, self.model, \"sold sucessfully to\", buyer)\n",
        "    self.ownership_history.append(buyer)\n",
        "\n",
        "  def see_ownership_history(self):\n",
        "    print(\"Past Owners:\")\n",
        "    for i in self.ownership_history:\n",
        "      print(i)\n",
        "\n",
        "    print(\"Current Owner:\", self.owner)\n",
        "\n",
        "  def __repr__(self):\n",
        "    return self.manufacturer + \" \" + self.model + \" owned by \" + self.owner"
      ]
    },
    {
      "cell_type": "code",
      "source": [
        "my_car = Car(\"Toyota\", \"Wish\", 7, \"Kitim\")"
      ],
      "metadata": {
        "id": "zgzQP1IZNjFf"
      },
      "execution_count": 20,
      "outputs": []
    },
    {
      "cell_type": "code",
      "source": [
        "my_car.details()"
      ],
      "metadata": {
        "colab": {
          "base_uri": "https://localhost:8080/"
        },
        "id": "xRs-_lspOA5O",
        "outputId": "a0d5596c-d819-42a2-873c-f44387789823"
      },
      "execution_count": 21,
      "outputs": [
        {
          "output_type": "stream",
          "name": "stdout",
          "text": [
            "Manufacturer: Toyota\n",
            "Model: Wish\n",
            "Passengers: 7\n",
            "Owner: Kitim\n"
          ]
        }
      ]
    },
    {
      "cell_type": "code",
      "source": [
        "my_car.sell(\"Ali\")"
      ],
      "metadata": {
        "colab": {
          "base_uri": "https://localhost:8080/"
        },
        "id": "ewtAWNSWOP7d",
        "outputId": "4c2e01cd-369a-4f3e-dd18-dedd71843971"
      },
      "execution_count": 22,
      "outputs": [
        {
          "output_type": "stream",
          "name": "stdout",
          "text": [
            "Toyota Wish sold sucessfully to Ali\n"
          ]
        }
      ]
    },
    {
      "cell_type": "code",
      "source": [
        "my_car.details()"
      ],
      "metadata": {
        "colab": {
          "base_uri": "https://localhost:8080/"
        },
        "id": "W2vgHwfJPU56",
        "outputId": "6a42a893-f81a-4a8f-f531-c0777d583a44"
      },
      "execution_count": 23,
      "outputs": [
        {
          "output_type": "stream",
          "name": "stdout",
          "text": [
            "Manufacturer: Toyota\n",
            "Model: Wish\n",
            "Passengers: 7\n",
            "Owner: Ali\n"
          ]
        }
      ]
    },
    {
      "cell_type": "code",
      "source": [
        "my_car.sell(\"John\")"
      ],
      "metadata": {
        "colab": {
          "base_uri": "https://localhost:8080/"
        },
        "id": "FE8hr2F4Pd43",
        "outputId": "16885311-8b2b-4b07-f64c-4635da00c68b"
      },
      "execution_count": 24,
      "outputs": [
        {
          "output_type": "stream",
          "name": "stdout",
          "text": [
            "Toyota Wish sold sucessfully to John\n"
          ]
        }
      ]
    },
    {
      "cell_type": "code",
      "source": [
        "my_car.sell(\"Kitim\")"
      ],
      "metadata": {
        "colab": {
          "base_uri": "https://localhost:8080/"
        },
        "id": "iHEhRa1tRBZa",
        "outputId": "69a87d97-e664-415d-d03e-05c898572d35"
      },
      "execution_count": 25,
      "outputs": [
        {
          "output_type": "stream",
          "name": "stdout",
          "text": [
            "Toyota Wish sold sucessfully to Kitim\n"
          ]
        }
      ]
    },
    {
      "cell_type": "code",
      "source": [
        "my_car.see_ownership_history()"
      ],
      "metadata": {
        "colab": {
          "base_uri": "https://localhost:8080/"
        },
        "id": "FerXkxHmRHKl",
        "outputId": "c9eae115-1d68-415f-bd70-5d040eb771c9"
      },
      "execution_count": 26,
      "outputs": [
        {
          "output_type": "stream",
          "name": "stdout",
          "text": [
            "Past Owners:\n",
            "Kitim\n",
            "Ali\n",
            "John\n",
            "Kitim\n",
            "Current Owner: Kitim\n"
          ]
        }
      ]
    },
    {
      "cell_type": "code",
      "source": [
        "print(my_car)"
      ],
      "metadata": {
        "colab": {
          "base_uri": "https://localhost:8080/"
        },
        "id": "Hes1YQMSRL7Q",
        "outputId": "6ecd976a-c746-4315-b522-92e8f80e3aa1"
      },
      "execution_count": 27,
      "outputs": [
        {
          "output_type": "stream",
          "name": "stdout",
          "text": [
            "Toyota Wish owned by Kitim\n"
          ]
        }
      ]
    },
    {
      "cell_type": "code",
      "source": [],
      "metadata": {
        "id": "frvtdtJSRWlx"
      },
      "execution_count": 27,
      "outputs": []
    }
  ]
}